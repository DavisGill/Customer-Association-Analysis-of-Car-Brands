{
 "cells": [
  {
   "cell_type": "markdown",
   "metadata": {
    "id": "t3hONip3ufvB"
   },
   "source": [
    "# Assignment 1\n",
    "### Team Members: Alex Kim, Bolun Zhang, Chu Nie, Davis Gill"
   ]
  },
  {
   "cell_type": "markdown",
   "metadata": {
    "id": "8O0quwYsu5bb"
   },
   "source": [
    "### Scraper Script\n"
   ]
  },
  {
   "cell_type": "code",
   "execution_count": 1,
   "metadata": {
    "id": "DZG_2nHVuiZ4"
   },
   "outputs": [],
   "source": [
    "import pandas as pd\n",
    "import numpy as np\n",
    "import requests\n",
    "from bs4 import BeautifulSoup\n",
    "from time import sleep\n",
    "from random import randint"
   ]
  },
  {
   "cell_type": "code",
   "execution_count": 2,
   "metadata": {
    "id": "aIkefXk0wqPi"
   },
   "outputs": [
    {
     "name": "stdout",
     "output_type": "stream",
     "text": [
      "1\n",
      "2\n",
      "3\n",
      "4\n",
      "5\n",
      "6\n",
      "7\n",
      "8\n",
      "9\n",
      "10\n",
      "11\n",
      "12\n",
      "13\n",
      "14\n",
      "15\n",
      "16\n",
      "17\n",
      "18\n",
      "19\n",
      "20\n",
      "21\n",
      "22\n",
      "23\n",
      "24\n",
      "25\n",
      "26\n",
      "27\n",
      "28\n",
      "29\n",
      "30\n",
      "31\n",
      "32\n",
      "33\n",
      "34\n",
      "35\n",
      "36\n",
      "37\n",
      "38\n",
      "39\n",
      "40\n",
      "41\n",
      "42\n",
      "43\n",
      "44\n",
      "45\n",
      "46\n",
      "47\n",
      "48\n",
      "49\n",
      "50\n",
      "51\n",
      "52\n",
      "53\n",
      "54\n",
      "55\n",
      "56\n",
      "57\n",
      "58\n",
      "59\n",
      "60\n",
      "61\n",
      "62\n",
      "63\n",
      "64\n",
      "65\n",
      "66\n",
      "67\n",
      "68\n",
      "69\n",
      "70\n",
      "71\n",
      "72\n",
      "73\n",
      "74\n",
      "75\n",
      "76\n",
      "77\n",
      "78\n",
      "79\n",
      "80\n",
      "81\n",
      "82\n",
      "83\n",
      "84\n",
      "85\n",
      "86\n",
      "87\n",
      "88\n",
      "89\n",
      "90\n",
      "91\n",
      "92\n",
      "93\n",
      "94\n",
      "95\n",
      "96\n",
      "97\n",
      "98\n",
      "99\n",
      "100\n",
      "101\n",
      "102\n",
      "103\n",
      "104\n",
      "105\n",
      "106\n",
      "107\n",
      "108\n",
      "109\n"
     ]
    },
    {
     "data": {
      "text/html": [
       "<div>\n",
       "<style scoped>\n",
       "    .dataframe tbody tr th:only-of-type {\n",
       "        vertical-align: middle;\n",
       "    }\n",
       "\n",
       "    .dataframe tbody tr th {\n",
       "        vertical-align: top;\n",
       "    }\n",
       "\n",
       "    .dataframe thead th {\n",
       "        text-align: right;\n",
       "    }\n",
       "</style>\n",
       "<table border=\"1\" class=\"dataframe\">\n",
       "  <thead>\n",
       "    <tr style=\"text-align: right;\">\n",
       "      <th></th>\n",
       "      <th>date</th>\n",
       "      <th>dateTime</th>\n",
       "      <th>message</th>\n",
       "    </tr>\n",
       "  </thead>\n",
       "  <tbody>\n",
       "    <tr>\n",
       "      <th>0</th>\n",
       "      <td>March 24, 2002 10:54PM</td>\n",
       "      <td>2002-03-25T05:54:02+00:00</td>\n",
       "      <td>\\nI personally think that with a few tweaks th...</td>\n",
       "    </tr>\n",
       "    <tr>\n",
       "      <th>1</th>\n",
       "      <td>March 25, 2002 12:06AM</td>\n",
       "      <td>2002-03-25T07:06:29+00:00</td>\n",
       "      <td>\\nI am debating a new purchase and these two a...</td>\n",
       "    </tr>\n",
       "    <tr>\n",
       "      <th>2</th>\n",
       "      <td>March 25, 2002 10:02AM</td>\n",
       "      <td>2002-03-25T17:02:27+00:00</td>\n",
       "      <td>\\nGreat handling, RWD, excellent engine and th...</td>\n",
       "    </tr>\n",
       "    <tr>\n",
       "      <th>3</th>\n",
       "      <td>March 25, 2002 4:04PM</td>\n",
       "      <td>2002-03-25T23:04:37+00:00</td>\n",
       "      <td>\\nAnd no manual tranny. That may not matter to...</td>\n",
       "    </tr>\n",
       "    <tr>\n",
       "      <th>4</th>\n",
       "      <td>March 25, 2002 5:44PM</td>\n",
       "      <td>2002-03-26T00:44:13+00:00</td>\n",
       "      <td>\\nOne beauty of BMW 3 Series is that there are...</td>\n",
       "    </tr>\n",
       "    <tr>\n",
       "      <th>...</th>\n",
       "      <td>...</td>\n",
       "      <td>...</td>\n",
       "      <td>...</td>\n",
       "    </tr>\n",
       "    <tr>\n",
       "      <th>5426</th>\n",
       "      <td>August 1, 2006 6:35AM</td>\n",
       "      <td>2006-08-01T13:35:58+00:00</td>\n",
       "      <td>\\nwill of course vary greatly depending on whe...</td>\n",
       "    </tr>\n",
       "    <tr>\n",
       "      <th>5427</th>\n",
       "      <td>August 1, 2006 7:53AM</td>\n",
       "      <td>2006-08-01T14:53:55+00:00</td>\n",
       "      <td>\\nYes. in 2003 I bought my 330i ZHP off a lot....</td>\n",
       "    </tr>\n",
       "    <tr>\n",
       "      <th>5428</th>\n",
       "      <td>August 1, 2006 9:13AM</td>\n",
       "      <td>2006-08-01T16:13:23+00:00</td>\n",
       "      <td>\\nNo, I bought my ZHP off the lot in 2003 - I ...</td>\n",
       "    </tr>\n",
       "    <tr>\n",
       "      <th>5429</th>\n",
       "      <td>August 1, 2006 2:41PM</td>\n",
       "      <td>2006-08-01T21:41:31+00:00</td>\n",
       "      <td>\\nNo, I bought my ZHP off the lot in 2003 - I ...</td>\n",
       "    </tr>\n",
       "    <tr>\n",
       "      <th>5430</th>\n",
       "      <td>August 1, 2006 3:49PM</td>\n",
       "      <td>2006-08-01T22:49:04+00:00</td>\n",
       "      <td>\\nYou got a great deal and the best that ED wo...</td>\n",
       "    </tr>\n",
       "  </tbody>\n",
       "</table>\n",
       "<p>5431 rows × 3 columns</p>\n",
       "</div>"
      ],
      "text/plain": [
       "                        date                   dateTime  \\\n",
       "0     March 24, 2002 10:54PM  2002-03-25T05:54:02+00:00   \n",
       "1     March 25, 2002 12:06AM  2002-03-25T07:06:29+00:00   \n",
       "2     March 25, 2002 10:02AM  2002-03-25T17:02:27+00:00   \n",
       "3      March 25, 2002 4:04PM  2002-03-25T23:04:37+00:00   \n",
       "4      March 25, 2002 5:44PM  2002-03-26T00:44:13+00:00   \n",
       "...                      ...                        ...   \n",
       "5426   August 1, 2006 6:35AM  2006-08-01T13:35:58+00:00   \n",
       "5427   August 1, 2006 7:53AM  2006-08-01T14:53:55+00:00   \n",
       "5428   August 1, 2006 9:13AM  2006-08-01T16:13:23+00:00   \n",
       "5429   August 1, 2006 2:41PM  2006-08-01T21:41:31+00:00   \n",
       "5430   August 1, 2006 3:49PM  2006-08-01T22:49:04+00:00   \n",
       "\n",
       "                                                message  \n",
       "0     \\nI personally think that with a few tweaks th...  \n",
       "1     \\nI am debating a new purchase and these two a...  \n",
       "2     \\nGreat handling, RWD, excellent engine and th...  \n",
       "3     \\nAnd no manual tranny. That may not matter to...  \n",
       "4     \\nOne beauty of BMW 3 Series is that there are...  \n",
       "...                                                 ...  \n",
       "5426  \\nwill of course vary greatly depending on whe...  \n",
       "5427  \\nYes. in 2003 I bought my 330i ZHP off a lot....  \n",
       "5428  \\nNo, I bought my ZHP off the lot in 2003 - I ...  \n",
       "5429  \\nNo, I bought my ZHP off the lot in 2003 - I ...  \n",
       "5430  \\nYou got a great deal and the best that ED wo...  \n",
       "\n",
       "[5431 rows x 3 columns]"
      ]
     },
     "execution_count": 2,
     "metadata": {},
     "output_type": "execute_result"
    }
   ],
   "source": [
    "headers = {'Accept-Languages':\"en-US,en;q=0.5\"}\n",
    "date = []\n",
    "dateTime = []\n",
    "message = []\n",
    "old_pages = np.arange(1,110,1)\n",
    "for page in old_pages:\n",
    "\n",
    "    print(page)\n",
    "\n",
    "    page = requests.get('https://forums.edmunds.com/discussion/2864/general/x/entry-level-luxury-performance-sedans/p'+str(page))\n",
    "    soup = BeautifulSoup(page.text,'html.parser')\n",
    "\n",
    "    comment_data = soup.findAll('div',attrs = {'class':'Comment'})\n",
    "\n",
    "    sleep(randint(2,8))\n",
    "\n",
    "    for c in comment_data:\n",
    "\n",
    "        # Date and DateTime\n",
    "        d = c.time.attrs['title'] # date\n",
    "        dt = c.time.attrs['datetime'] # dateTime\n",
    "        date.append(d)\n",
    "        dateTime.append(dt)\n",
    "\n",
    "        # Comment Body Paragraph\n",
    "        comment = c.find('div', class_ = 'Message userContent').text\n",
    "        message.append(comment)\n",
    "\n",
    "\n",
    "old_luxury_sedan_comments = pd.DataFrame({'date':date, 'dateTime':dateTime, 'message': message})\n",
    "old_luxury_sedan_comments = old_luxury_sedan_comments.drop_duplicates(['message'])\n",
    "old_luxury_sedan_comments.reset_index(drop = True)"
   ]
  },
  {
   "cell_type": "code",
   "execution_count": 3,
   "metadata": {
    "id": "z3yrn56NvdsV"
   },
   "outputs": [],
   "source": [
    "old_luxury_sedan_comments.to_csv('old_luxury_sedan_comments.csv')"
   ]
  },
  {
   "cell_type": "markdown",
   "metadata": {
    "id": "PkJ-MyJlvZ1A"
   },
   "source": [
    "### Task A"
   ]
  },
  {
   "cell_type": "code",
   "execution_count": 4,
   "metadata": {
    "id": "rqtEUwJbvYVu"
   },
   "outputs": [],
   "source": [
    "import pandas as pd\n",
    "import numpy as np\n",
    "import nltk\n",
    "import re\n",
    "import matplotlib.pyplot as plt\n",
    "from nltk.tokenize import TreebankWordTokenizer"
   ]
  },
  {
   "cell_type": "code",
   "execution_count": 5,
   "metadata": {
    "id": "WLjW86hpvYci"
   },
   "outputs": [],
   "source": [
    "data = pd.read_csv('old_luxury_sedan_comments.csv')\n",
    "\n",
    "tokenizer = TreebankWordTokenizer()\n",
    "word_book = set()\n",
    "words = []\n",
    "\n",
    "for i in range(len(data)):\n",
    "\n",
    "    m = data['message'][i]\n",
    "    tokens = tokenizer.tokenize(m)\n",
    "    for t in tokens:\n",
    "        word_book.add(t.lower())\n",
    "        words.append(t.lower())\n",
    "\n",
    "\n",
    "counts = [(w, words.count(w)) for w in word_book]\n",
    "\n",
    "def takeSecond(elem):\n",
    "    return elem[1]\n",
    "\n",
    "counts.sort(key = takeSecond,reverse = True)\n",
    "\n",
    "w, c = zip(*counts)\n",
    "\n",
    "top_100_words = w[0:100]\n",
    "top_100_words_freq = c[0:100]\n",
    "\n",
    "rank = np.arange(1,101)\n",
    "\n",
    "# Theoretical Zipf's Law\n",
    "constant = 1*c[0] # constant = rank * frequency\n",
    "zipf_pred = constant / rank"
   ]
  },
  {
   "cell_type": "code",
   "execution_count": 6,
   "metadata": {
    "id": "ZLDh54lyvYfW"
   },
   "outputs": [
    {
     "data": {
      "image/png": "[encoded data removed]",
      "text/plain": [
       "<Figure size 1000x700 with 1 Axes>"
      ]
     },
     "metadata": {},
     "output_type": "display_data"
    }
   ],
   "source": [
    "# Plot\n",
    "plt.figure(figsize = (10,7))\n",
    "plt.plot(rank,zipf_pred, marker = '.',label = \"Zipf's Law Theoretical Prediction\")\n",
    "plt.plot(rank,top_100_words_freq, marker = '.',label = \"Reality\")\n",
    "plt.xlabel('rank')\n",
    "plt.ylabel('frequency')\n",
    "plt.title(\"Most Common 100 Words in Reality vs. in Zipf's Law Theoretical Prediction\")\n",
    "plt.legend()\n",
    "\n",
    "plt.savefig('mostCommon100Words.svg',format = 'svg')"
   ]
  },
  {
   "cell_type": "code",
   "execution_count": 7,
   "metadata": {
    "id": "82inQh0pvYig"
   },
   "outputs": [
    {
     "data": {
      "image/png": "[encoded data removed]",
      "text/plain": [
       "<Figure size 1000x700 with 1 Axes>"
      ]
     },
     "metadata": {},
     "output_type": "display_data"
    }
   ],
   "source": [
    "# Plot Log\n",
    "plt.figure(figsize = (10,7))\n",
    "plt.plot(rank,zipf_pred, marker = '.',label = \"Zipf's Law Theoretical Prediction\")\n",
    "plt.plot(rank,top_100_words_freq, marker = '.',label = \"Reality\")\n",
    "plt.xscale('log')\n",
    "plt.yscale('log')\n",
    "plt.xlabel('rank')\n",
    "plt.ylabel('frequency')\n",
    "plt.title(\"Most Common 100 Words in Reality vs. in Zipf's Law Theoretical Prediction (log)\")\n",
    "plt.legend()\n",
    "\n",
    "plt.savefig('mostCommon100Words_log.svg',format = 'svg')"
   ]
  },
  {
   "cell_type": "code",
   "execution_count": null,
   "metadata": {
    "id": "eoUPKoSlvYmM"
   },
   "outputs": [],
   "source": []
  },
  {
   "cell_type": "markdown",
   "metadata": {
    "id": "zdZOYm41v5cD"
   },
   "source": [
    "### TaskB"
   ]
  },
  {
   "cell_type": "code",
   "execution_count": 8,
   "metadata": {
    "id": "PoXNZMZxv6D8"
   },
   "outputs": [],
   "source": [
    "import pandas as pd\n",
    "import numpy as np\n",
    "import nltk\n",
    "import re\n",
    "from nltk.corpus import stopwords\n",
    "from nltk.tokenize import TreebankWordTokenizer"
   ]
  },
  {
   "cell_type": "code",
   "execution_count": 9,
   "metadata": {
    "id": "ubP_8-bZwCGe"
   },
   "outputs": [],
   "source": [
    "data = pd.read_csv('old_luxury_sedan_comments.csv')\n",
    "car_info = pd.read_csv('car_models_and_brands.csv')"
   ]
  },
  {
   "cell_type": "code",
   "execution_count": 10,
   "metadata": {
    "id": "8Tc1onuQwCLs"
   },
   "outputs": [],
   "source": [
    "tokenizer = TreebankWordTokenizer()\n",
    "words_unique = []\n",
    "modelList = car_info.drop_duplicates()['Model'].to_list()\n",
    "brandList = car_info.drop_duplicates()['Brand'].to_list()\n",
    "non_brands = ['car', 'sedan', 'seat', 'problem']\n",
    "updated_brands = [x for x in brandList if x not in non_brands]\n",
    "\n",
    "\n",
    "\n",
    "for i in range(len(data)):\n",
    "\n",
    "    temp = set()\n",
    "    m = data['message'][i]\n",
    "    tokens = tokenizer.tokenize(m)\n",
    "\n",
    "    for t in tokens:\n",
    "        t = t.lower()\n",
    "        if t in modelList:\n",
    "            n = modelList.index(t)\n",
    "            t = brandList[n]\n",
    "            temp.add(t)\n",
    "        else:\n",
    "            temp.add(t)\n",
    "\n",
    "    for x in temp:\n",
    "        x = str(x)\n",
    "        words_unique.append(x)\n",
    "\n",
    "\n",
    "words_unique_english = pd.Series(words_unique).value_counts().to_frame().reset_index()\n",
    "words_unique_english.rename(columns = {'index':'word',0:'count'},inplace = True)\n",
    "words_unique_english= words_unique_english[words_unique_english['word'].apply(lambda x: x.isalpha())]\n",
    "\n",
    "stopWords = stopwords.words('english')\n",
    "df_clean = words_unique_english[words_unique_english['word'].isin(stopWords)==False] # without stopWords\n",
    "car_brand_count = df_clean[df_clean['word'].isin(updated_brands)].sort_values(['count'], ascending = False)\n"
   ]
  },
  {
   "cell_type": "code",
   "execution_count": 11,
   "metadata": {
    "id": "DPba3-zuwCOs"
   },
   "outputs": [],
   "source": [
    "car_brand_count.to_csv('car_brand_frequency.csv', index = False)"
   ]
  },
  {
   "cell_type": "code",
   "execution_count": 12,
   "metadata": {
    "id": "_FDe2Nzwv6PV"
   },
   "outputs": [
    {
     "data": {
      "text/plain": [
       "brand\n",
       "bmw           1501\n",
       "acura          565\n",
       "audi           449\n",
       "honda          416\n",
       "infiniti       402\n",
       "nissan         293\n",
       "toyota         293\n",
       "subaru         211\n",
       "volkswagen     174\n",
       "ford           141\n",
       "Name: count, dtype: int64"
      ]
     },
     "execution_count": 12,
     "metadata": {},
     "output_type": "execute_result"
    }
   ],
   "source": [
    "car_brand_count.rename(columns={'word': 'brand'}, inplace=True)\n",
    "top_10_brands = car_brand_count.set_index('brand')['count']\n",
    "\n",
    "top_10_brands.head(10)"
   ]
  },
  {
   "cell_type": "code",
   "execution_count": null,
   "metadata": {},
   "outputs": [],
   "source": []
  },
  {
   "cell_type": "markdown",
   "metadata": {
    "id": "EktxV8rWwDbI"
   },
   "source": [
    "### Task C"
   ]
  },
  {
   "cell_type": "code",
   "execution_count": 13,
   "metadata": {
    "id": "MiyOd78GwFc_"
   },
   "outputs": [],
   "source": [
    "top10_brands = ['bmw', 'acura', 'audi', 'honda', 'infiniti', 'nissan', 'toyota', 'mercedes', 'subaru', 'volkswagen']\n",
    "possible_comb = []\n",
    "from itertools import combinations\n",
    "\n",
    "def pairs(lst):\n",
    "    return list(combinations(lst, 2))\n",
    "\n",
    "possible_comb = (pairs(top10_brands))"
   ]
  },
  {
   "cell_type": "code",
   "execution_count": 14,
   "metadata": {
    "id": "J7GCduLdDuow"
   },
   "outputs": [],
   "source": [
    "tokenizer = TreebankWordTokenizer()\n",
    "all_sentence = []\n",
    "all_sentence_d = []\n",
    "\n",
    "for i in range(len(data)):\n",
    "    sentence = set()\n",
    "    sentence_d = []\n",
    "\n",
    "    m = data['message'][i]\n",
    "    tokens = tokenizer.tokenize(m)\n",
    "    for t in tokens:\n",
    "        sentence.add(t.lower())\n",
    "        sentence_d.append(t.lower())\n",
    "\n",
    "    all_sentence.append(sentence)\n",
    "    all_sentence_d.append(sentence_d)\n"
   ]
  },
  {
   "cell_type": "code",
   "execution_count": 15,
   "metadata": {
    "id": "x9sYsmU_wFf1"
   },
   "outputs": [],
   "source": [
    "def index_difference(word1, word2, lst):\n",
    "    try:\n",
    "        index1 = lst.index(word1)\n",
    "        index2 = lst.index(word2)\n",
    "        return abs(index1 - index2)\n",
    "    except ValueError:\n",
    "        return None"
   ]
  },
  {
   "cell_type": "code",
   "execution_count": 16,
   "metadata": {
    "id": "3MzZJO4hwFlI"
   },
   "outputs": [],
   "source": [
    "pairs_count = {}\n",
    "\n",
    "for pairs in possible_comb:\n",
    "    pairs_count[pairs] = 0\n",
    "\n",
    "for i in range (len(all_sentence)):\n",
    "    for pairs in possible_comb:\n",
    "        brand1 = pairs[0]\n",
    "        brand2 = pairs[1]\n",
    "        if brand1 in all_sentence[i] and brand2 in all_sentence[i] and index_difference(brand1, brand2, all_sentence_d[i])<=7:\n",
    "            pairs_count[pairs] += 1"
   ]
  },
  {
   "cell_type": "code",
   "execution_count": 17,
   "metadata": {
    "id": "iK2kyaNOwFn7"
   },
   "outputs": [
    {
     "data": {
      "text/plain": [
       "{('bmw', 'acura'): 0.2241396591063185,\n",
       " ('bmw', 'audi'): 0.4432160296995767,\n",
       " ('bmw', 'honda'): 0.026093181468764413,\n",
       " ('bmw', 'infiniti'): 0.4140291215474924,\n",
       " ('bmw', 'nissan'): 0.04939596582937882,\n",
       " ('bmw', 'toyota'): 0.06174495728672353,\n",
       " ('bmw', 'mercedes'): 0.7486043786900687,\n",
       " ('bmw', 'subaru'): 0.06859250231283409,\n",
       " ('bmw', 'volkswagen'): 0.04158913214944826,\n",
       " ('acura', 'audi'): 0.3211265940043755,\n",
       " ('acura', 'honda'): 0.18485364193328796,\n",
       " ('acura', 'infiniti'): 1.3868621494298419,\n",
       " ('acura', 'nissan'): 0.1640339484732248,\n",
       " ('acura', 'toyota'): 0.09842036908393488,\n",
       " ('acura', 'mercedes'): 0.24859627708269758,\n",
       " ('acura', 'subaru'): 0.13666904332508492,\n",
       " ('acura', 'volkswagen'): 0.0,\n",
       " ('audi', 'honda'): 0.05815273256810005,\n",
       " ('audi', 'infiniti'): 0.6017795211027269,\n",
       " ('audi', 'nissan'): 0.0,\n",
       " ('audi', 'toyota'): 0.0,\n",
       " ('audi', 'mercedes'): 1.2512863835342907,\n",
       " ('audi', 'subaru'): 0.28662958232618035,\n",
       " ('audi', 'volkswagen'): 0.13903182039269898,\n",
       " ('honda', 'infiniti'): 0.06495168388825105,\n",
       " ('honda', 'nissan'): 0.8911459700708847,\n",
       " ('honda', 'toyota'): 1.5149481491205041,\n",
       " ('honda', 'mercedes'): 0.0,\n",
       " ('honda', 'subaru'): 0.18562021509296392,\n",
       " ('honda', 'volkswagen'): 0.0750303934571176,\n",
       " ('infiniti', 'nissan'): 0.23054522608799008,\n",
       " ('infiniti', 'toyota'): 0.04610904521759802,\n",
       " ('infiniti', 'mercedes'): 0.5823254417567336,\n",
       " ('infiniti', 'subaru'): 0.32014100115536065,\n",
       " ('infiniti', 'volkswagen'): 0.0,\n",
       " ('nissan', 'toyota'): 1.1387203112441613,\n",
       " ('nissan', 'mercedes'): 0.0,\n",
       " ('nissan', 'subaru'): 0.17569512964430714,\n",
       " ('nissan', 'volkswagen'): 0.1065277941234161,\n",
       " ('toyota', 'mercedes'): 0.15979169118512415,\n",
       " ('toyota', 'subaru'): 0.0,\n",
       " ('toyota', 'volkswagen'): 0.1065277941234161,\n",
       " ('mercedes', 'subaru'): 0.0,\n",
       " ('mercedes', 'volkswagen'): 0.0,\n",
       " ('subaru', 'volkswagen'): 0.0}"
      ]
     },
     "execution_count": 17,
     "metadata": {},
     "output_type": "execute_result"
    }
   ],
   "source": [
    "single_mention = pd.read_csv('car_brand_frequency.csv')\n",
    "pairs_lift = {}\n",
    "N = len(data)\n",
    "\n",
    "for key, value in pairs_count.items():\n",
    "    commen_mention = value\n",
    "    single_value1 = single_mention[single_mention['word'] == key[0]]['count'].tolist()[0]\n",
    "    single_value2 = single_mention[single_mention['word'] == key[1]]['count'].tolist()[0]\n",
    "    pairs_lift[key] = N*value/(single_value1*single_value2)\n",
    "\n",
    "    #print(key,value)\n",
    "    #print(key[0], single_value1)\n",
    "    #print(key[1], single_value2)\n",
    "\n",
    "pairs_lift"
   ]
  },
  {
   "cell_type": "markdown",
   "metadata": {
    "id": "Mzww9NBZEETM"
   },
   "source": [
    "### Task D"
   ]
  },
  {
   "cell_type": "code",
   "execution_count": 18,
   "metadata": {},
   "outputs": [
    {
     "data": {
      "text/html": [
       "<div>\n",
       "<style scoped>\n",
       "    .dataframe tbody tr th:only-of-type {\n",
       "        vertical-align: middle;\n",
       "    }\n",
       "\n",
       "    .dataframe tbody tr th {\n",
       "        vertical-align: top;\n",
       "    }\n",
       "\n",
       "    .dataframe thead th {\n",
       "        text-align: right;\n",
       "    }\n",
       "</style>\n",
       "<table border=\"1\" class=\"dataframe\">\n",
       "  <thead>\n",
       "    <tr style=\"text-align: right;\">\n",
       "      <th></th>\n",
       "      <th>mercedes</th>\n",
       "      <th>acura</th>\n",
       "      <th>subaru</th>\n",
       "      <th>volkswagen</th>\n",
       "      <th>honda</th>\n",
       "      <th>infiniti</th>\n",
       "      <th>nissan</th>\n",
       "      <th>audi</th>\n",
       "      <th>toyota</th>\n",
       "      <th>bmw</th>\n",
       "    </tr>\n",
       "  </thead>\n",
       "  <tbody>\n",
       "    <tr>\n",
       "      <th>mercedes</th>\n",
       "      <td>0.000000</td>\n",
       "      <td>0.248596</td>\n",
       "      <td>0.000000</td>\n",
       "      <td>0.000000</td>\n",
       "      <td>0.000000</td>\n",
       "      <td>0.582325</td>\n",
       "      <td>0.000000</td>\n",
       "      <td>1.251286</td>\n",
       "      <td>0.159792</td>\n",
       "      <td>0.748604</td>\n",
       "    </tr>\n",
       "    <tr>\n",
       "      <th>acura</th>\n",
       "      <td>0.248596</td>\n",
       "      <td>0.000000</td>\n",
       "      <td>0.136669</td>\n",
       "      <td>0.000000</td>\n",
       "      <td>0.184854</td>\n",
       "      <td>1.386862</td>\n",
       "      <td>0.164034</td>\n",
       "      <td>0.321127</td>\n",
       "      <td>0.098420</td>\n",
       "      <td>0.224140</td>\n",
       "    </tr>\n",
       "    <tr>\n",
       "      <th>subaru</th>\n",
       "      <td>0.000000</td>\n",
       "      <td>0.136669</td>\n",
       "      <td>0.000000</td>\n",
       "      <td>0.000000</td>\n",
       "      <td>0.185620</td>\n",
       "      <td>0.320141</td>\n",
       "      <td>0.175695</td>\n",
       "      <td>0.286630</td>\n",
       "      <td>0.000000</td>\n",
       "      <td>0.068593</td>\n",
       "    </tr>\n",
       "    <tr>\n",
       "      <th>volkswagen</th>\n",
       "      <td>0.000000</td>\n",
       "      <td>0.000000</td>\n",
       "      <td>0.000000</td>\n",
       "      <td>0.000000</td>\n",
       "      <td>0.075030</td>\n",
       "      <td>0.000000</td>\n",
       "      <td>0.106528</td>\n",
       "      <td>0.139032</td>\n",
       "      <td>0.106528</td>\n",
       "      <td>0.041589</td>\n",
       "    </tr>\n",
       "    <tr>\n",
       "      <th>honda</th>\n",
       "      <td>0.000000</td>\n",
       "      <td>0.184854</td>\n",
       "      <td>0.185620</td>\n",
       "      <td>0.075030</td>\n",
       "      <td>0.000000</td>\n",
       "      <td>0.064952</td>\n",
       "      <td>0.891146</td>\n",
       "      <td>0.058153</td>\n",
       "      <td>1.514948</td>\n",
       "      <td>0.026093</td>\n",
       "    </tr>\n",
       "    <tr>\n",
       "      <th>infiniti</th>\n",
       "      <td>0.582325</td>\n",
       "      <td>1.386862</td>\n",
       "      <td>0.320141</td>\n",
       "      <td>0.000000</td>\n",
       "      <td>0.064952</td>\n",
       "      <td>0.000000</td>\n",
       "      <td>0.230545</td>\n",
       "      <td>0.601780</td>\n",
       "      <td>0.046109</td>\n",
       "      <td>0.414029</td>\n",
       "    </tr>\n",
       "    <tr>\n",
       "      <th>nissan</th>\n",
       "      <td>0.000000</td>\n",
       "      <td>0.164034</td>\n",
       "      <td>0.175695</td>\n",
       "      <td>0.106528</td>\n",
       "      <td>0.891146</td>\n",
       "      <td>0.230545</td>\n",
       "      <td>0.000000</td>\n",
       "      <td>0.000000</td>\n",
       "      <td>1.138720</td>\n",
       "      <td>0.049396</td>\n",
       "    </tr>\n",
       "    <tr>\n",
       "      <th>audi</th>\n",
       "      <td>1.251286</td>\n",
       "      <td>0.321127</td>\n",
       "      <td>0.286630</td>\n",
       "      <td>0.139032</td>\n",
       "      <td>0.058153</td>\n",
       "      <td>0.601780</td>\n",
       "      <td>0.000000</td>\n",
       "      <td>0.000000</td>\n",
       "      <td>0.000000</td>\n",
       "      <td>0.443216</td>\n",
       "    </tr>\n",
       "    <tr>\n",
       "      <th>toyota</th>\n",
       "      <td>0.159792</td>\n",
       "      <td>0.098420</td>\n",
       "      <td>0.000000</td>\n",
       "      <td>0.106528</td>\n",
       "      <td>1.514948</td>\n",
       "      <td>0.046109</td>\n",
       "      <td>1.138720</td>\n",
       "      <td>0.000000</td>\n",
       "      <td>0.000000</td>\n",
       "      <td>0.061745</td>\n",
       "    </tr>\n",
       "    <tr>\n",
       "      <th>bmw</th>\n",
       "      <td>0.748604</td>\n",
       "      <td>0.224140</td>\n",
       "      <td>0.068593</td>\n",
       "      <td>0.041589</td>\n",
       "      <td>0.026093</td>\n",
       "      <td>0.414029</td>\n",
       "      <td>0.049396</td>\n",
       "      <td>0.443216</td>\n",
       "      <td>0.061745</td>\n",
       "      <td>0.000000</td>\n",
       "    </tr>\n",
       "  </tbody>\n",
       "</table>\n",
       "</div>"
      ],
      "text/plain": [
       "            mercedes     acura    subaru  volkswagen     honda  infiniti  \\\n",
       "mercedes    0.000000  0.248596  0.000000    0.000000  0.000000  0.582325   \n",
       "acura       0.248596  0.000000  0.136669    0.000000  0.184854  1.386862   \n",
       "subaru      0.000000  0.136669  0.000000    0.000000  0.185620  0.320141   \n",
       "volkswagen  0.000000  0.000000  0.000000    0.000000  0.075030  0.000000   \n",
       "honda       0.000000  0.184854  0.185620    0.075030  0.000000  0.064952   \n",
       "infiniti    0.582325  1.386862  0.320141    0.000000  0.064952  0.000000   \n",
       "nissan      0.000000  0.164034  0.175695    0.106528  0.891146  0.230545   \n",
       "audi        1.251286  0.321127  0.286630    0.139032  0.058153  0.601780   \n",
       "toyota      0.159792  0.098420  0.000000    0.106528  1.514948  0.046109   \n",
       "bmw         0.748604  0.224140  0.068593    0.041589  0.026093  0.414029   \n",
       "\n",
       "              nissan      audi    toyota       bmw  \n",
       "mercedes    0.000000  1.251286  0.159792  0.748604  \n",
       "acura       0.164034  0.321127  0.098420  0.224140  \n",
       "subaru      0.175695  0.286630  0.000000  0.068593  \n",
       "volkswagen  0.106528  0.139032  0.106528  0.041589  \n",
       "honda       0.891146  0.058153  1.514948  0.026093  \n",
       "infiniti    0.230545  0.601780  0.046109  0.414029  \n",
       "nissan      0.000000  0.000000  1.138720  0.049396  \n",
       "audi        0.000000  0.000000  0.000000  0.443216  \n",
       "toyota      1.138720  0.000000  0.000000  0.061745  \n",
       "bmw         0.049396  0.443216  0.061745  0.000000  "
      ]
     },
     "execution_count": 18,
     "metadata": {},
     "output_type": "execute_result"
    }
   ],
   "source": [
    "# Extract unique brand names\n",
    "brand_names = list(set(brand for pair in pairs_lift for brand in pair))\n",
    "\n",
    "# Create an empty DataFrame with brand names as columns and index\n",
    "lift_matrix = pd.DataFrame(index=brand_names, columns=brand_names)\n",
    "\n",
    "# Fill the matrix with lift values\n",
    "for (brand1, brand2), lift_value in pairs_lift.items():\n",
    "    lift_matrix.at[brand1, brand2] = lift_value\n",
    "    lift_matrix.at[brand2, brand1] = lift_value\n",
    "\n",
    "# Fill diagonal with zeros\n",
    "lift_matrix.fillna(0, inplace=True)\n",
    "# Convert the lift_matrix to a DataFrame\n",
    "lift_matrix_df = pd.DataFrame(lift_matrix)\n",
    "lift_matrix_df"
   ]
  },
  {
   "cell_type": "code",
   "execution_count": 22,
   "metadata": {},
   "outputs": [
    {
     "name": "stderr",
     "output_type": "stream",
     "text": [
      "C:\\Users\\Davis\\anaconda3\\lib\\site-packages\\sklearn\\manifold\\_mds.py:601: UserWarning: The MDS API has changed. ``fit`` now constructs an dissimilarity matrix from data. To use a custom dissimilarity matrix, set ``dissimilarity='precomputed'``.\n",
      "  warnings.warn(\n",
      "C:\\Users\\Davis\\anaconda3\\lib\\site-packages\\sklearn\\manifold\\_mds.py:299: FutureWarning: The default value of `normalized_stress` will change to `'auto'` in version 1.4. To suppress this warning, manually set the value of `normalized_stress`.\n",
      "  warnings.warn(\n",
      "C:\\Users\\Davis\\anaconda3\\lib\\site-packages\\sklearn\\manifold\\_mds.py:601: UserWarning: The MDS API has changed. ``fit`` now constructs an dissimilarity matrix from data. To use a custom dissimilarity matrix, set ``dissimilarity='precomputed'``.\n",
      "  warnings.warn(\n",
      "C:\\Users\\Davis\\anaconda3\\lib\\site-packages\\sklearn\\manifold\\_mds.py:299: FutureWarning: The default value of `normalized_stress` will change to `'auto'` in version 1.4. To suppress this warning, manually set the value of `normalized_stress`.\n",
      "  warnings.warn(\n"
     ]
    },
    {
     "data": {
      "text/plain": [
       "Text(0.5, 1.0, 'Multidimensional Scaling: Top 10 Brands Dissimilarities \\n (Euclidean Distances = 1 / lift)')"
      ]
     },
     "execution_count": 22,
     "metadata": {},
     "output_type": "execute_result"
    },
    {
     "data": {
      "image/png": "[encoded data removed]",
      "text/plain": [
       "<Figure size 1000x1000 with 1 Axes>"
      ]
     },
     "metadata": {},
     "output_type": "display_data"
    }
   ],
   "source": [
    "from sklearn.manifold import MDS\n",
    "\n",
    "# Extract the brand pairs from the lift_matrix\n",
    "#brand_pairs = list(lift_matrix_df.columns)\n",
    "\n",
    "# Performing MDS\n",
    "mds = MDS(dissimilarity='euclidean',random_state=42)\n",
    "mds_fit = mds.fit(lift_matrix_df)\n",
    "coords = mds.fit_transform(lift_matrix_df)\n",
    "x,y = coords.T\n",
    "plt.figure(figsize=(10, 10))\n",
    "plt.scatter(x,y)\n",
    "for i, txt in enumerate(lift_matrix_df):\n",
    "    plt.annotate(txt, (x[i], y[i]), xycoords='data',\n",
    "             xytext=(20, -20), textcoords='offset points',\n",
    "             size=13, ha='right', va=\"center\",\n",
    "             bbox=dict(boxstyle=\"round\", alpha=0.1),\n",
    "             arrowprops=dict(arrowstyle=\"wedge,tail_width=0.5\", alpha=0.1))\n",
    "plt.yticks([])\n",
    "plt.xticks([])\n",
    "plt.title('Multidimensional Scaling: Top 10 Brands Dissimilarities \\n (Euclidean Distances = 1 / lift)')"
   ]
  },
  {
   "cell_type": "markdown",
   "metadata": {},
   "source": [
    "TASK E"
   ]
  },
  {
   "cell_type": "markdown",
   "metadata": {},
   "source": [
    "From our analysis of the lift ratios for association between the top 10 brands, we can highlight some important relationships to our client. Namely the high level association between brands like Infiniti and Acura, as well as Honda and Toyota. Our web scraping found that Edmunds users frequently compare or mention this brands in the same post. While we don't know whether it is positive or negative association, when Edmunds users, typically more car informed than the average customer, think of Infiniti, they also think of Acura, the same going for Toyota and Honda as well.\n",
    "\n",
    "The MDS Map plots dissimilarity, plotting brands that are not mentioned together often. We did this to highlight that BMW, Volkswagon, and Subaru all lack a lift greater than 1 with any other car brand. There are multiple implications of this, maybe suggesting they operate within a niche within the market, that Edmunds users don't find reason to compare or mention them with other brands, or even that these brands aren't mentioned much at all. Meanwhile our scores with high lifts, such as Toyota, Honda, and Infiniti are all near the outskirts of the MDS Map. Pairs of car brands with high lift association scores are plotted far apart on the MDS Map, for example Honda and Toyota as well as Infinit and Acura."
   ]
  },
  {
   "cell_type": "markdown",
   "metadata": {},
   "source": [
    "TASK F"
   ]
  },
  {
   "cell_type": "code",
   "execution_count": 21,
   "metadata": {},
   "outputs": [
    {
     "ename": "NameError",
     "evalue": "name 'word_tokenize' is not defined",
     "output_type": "error",
     "traceback": [
      "\u001b[1;31m---------------------------------------------------------------------------\u001b[0m",
      "\u001b[1;31mNameError\u001b[0m                                 Traceback (most recent call last)",
      "Cell \u001b[1;32mIn[21], line 20\u001b[0m\n\u001b[0;32m     18\u001b[0m             word_freq[token] \u001b[38;5;241m+\u001b[39m\u001b[38;5;241m=\u001b[39m \u001b[38;5;241m1\u001b[39m\n\u001b[0;32m     19\u001b[0m     \u001b[38;5;28;01mreturn\u001b[39;00m \u001b[38;5;28;01mNone\u001b[39;00m\n\u001b[1;32m---> 20\u001b[0m \u001b[43mdata\u001b[49m\u001b[43m[\u001b[49m\u001b[38;5;124;43m'\u001b[39;49m\u001b[38;5;124;43mmessage\u001b[39;49m\u001b[38;5;124;43m'\u001b[39;49m\u001b[43m]\u001b[49m\u001b[38;5;241;43m.\u001b[39;49m\u001b[43mmap\u001b[49m\u001b[43m(\u001b[49m\u001b[43mget_word_freq\u001b[49m\u001b[43m)\u001b[49m\n\u001b[0;32m     21\u001b[0m potential_attributes \u001b[38;5;241m=\u001b[39m pd\u001b[38;5;241m.\u001b[39mSeries(word_freq)\n\u001b[0;32m     22\u001b[0m potential_attributes \u001b[38;5;241m=\u001b[39m potential_attributes\u001b[38;5;241m.\u001b[39msort_values(ascending\u001b[38;5;241m=\u001b[39m\u001b[38;5;28;01mFalse\u001b[39;00m)\n",
      "File \u001b[1;32m~\\anaconda3\\lib\\site-packages\\pandas\\core\\series.py:4539\u001b[0m, in \u001b[0;36mSeries.map\u001b[1;34m(self, arg, na_action)\u001b[0m\n\u001b[0;32m   4460\u001b[0m \u001b[38;5;28;01mdef\u001b[39;00m \u001b[38;5;21mmap\u001b[39m(\n\u001b[0;32m   4461\u001b[0m     \u001b[38;5;28mself\u001b[39m,\n\u001b[0;32m   4462\u001b[0m     arg: Callable \u001b[38;5;241m|\u001b[39m Mapping \u001b[38;5;241m|\u001b[39m Series,\n\u001b[0;32m   4463\u001b[0m     na_action: Literal[\u001b[38;5;124m\"\u001b[39m\u001b[38;5;124mignore\u001b[39m\u001b[38;5;124m\"\u001b[39m] \u001b[38;5;241m|\u001b[39m \u001b[38;5;28;01mNone\u001b[39;00m \u001b[38;5;241m=\u001b[39m \u001b[38;5;28;01mNone\u001b[39;00m,\n\u001b[0;32m   4464\u001b[0m ) \u001b[38;5;241m-\u001b[39m\u001b[38;5;241m>\u001b[39m Series:\n\u001b[0;32m   4465\u001b[0m     \u001b[38;5;124;03m\"\"\"\u001b[39;00m\n\u001b[0;32m   4466\u001b[0m \u001b[38;5;124;03m    Map values of Series according to an input mapping or function.\u001b[39;00m\n\u001b[0;32m   4467\u001b[0m \n\u001b[1;32m   (...)\u001b[0m\n\u001b[0;32m   4537\u001b[0m \u001b[38;5;124;03m    dtype: object\u001b[39;00m\n\u001b[0;32m   4538\u001b[0m \u001b[38;5;124;03m    \"\"\"\u001b[39;00m\n\u001b[1;32m-> 4539\u001b[0m     new_values \u001b[38;5;241m=\u001b[39m \u001b[38;5;28;43mself\u001b[39;49m\u001b[38;5;241;43m.\u001b[39;49m\u001b[43m_map_values\u001b[49m\u001b[43m(\u001b[49m\u001b[43marg\u001b[49m\u001b[43m,\u001b[49m\u001b[43m \u001b[49m\u001b[43mna_action\u001b[49m\u001b[38;5;241;43m=\u001b[39;49m\u001b[43mna_action\u001b[49m\u001b[43m)\u001b[49m\n\u001b[0;32m   4540\u001b[0m     \u001b[38;5;28;01mreturn\u001b[39;00m \u001b[38;5;28mself\u001b[39m\u001b[38;5;241m.\u001b[39m_constructor(new_values, index\u001b[38;5;241m=\u001b[39m\u001b[38;5;28mself\u001b[39m\u001b[38;5;241m.\u001b[39mindex)\u001b[38;5;241m.\u001b[39m__finalize__(\n\u001b[0;32m   4541\u001b[0m         \u001b[38;5;28mself\u001b[39m, method\u001b[38;5;241m=\u001b[39m\u001b[38;5;124m\"\u001b[39m\u001b[38;5;124mmap\u001b[39m\u001b[38;5;124m\"\u001b[39m\n\u001b[0;32m   4542\u001b[0m     )\n",
      "File \u001b[1;32m~\\anaconda3\\lib\\site-packages\\pandas\\core\\base.py:890\u001b[0m, in \u001b[0;36mIndexOpsMixin._map_values\u001b[1;34m(self, mapper, na_action)\u001b[0m\n\u001b[0;32m    887\u001b[0m         \u001b[38;5;28;01mraise\u001b[39;00m \u001b[38;5;167;01mValueError\u001b[39;00m(msg)\n\u001b[0;32m    889\u001b[0m \u001b[38;5;66;03m# mapper is a function\u001b[39;00m\n\u001b[1;32m--> 890\u001b[0m new_values \u001b[38;5;241m=\u001b[39m \u001b[43mmap_f\u001b[49m\u001b[43m(\u001b[49m\u001b[43mvalues\u001b[49m\u001b[43m,\u001b[49m\u001b[43m \u001b[49m\u001b[43mmapper\u001b[49m\u001b[43m)\u001b[49m\n\u001b[0;32m    892\u001b[0m \u001b[38;5;28;01mreturn\u001b[39;00m new_values\n",
      "File \u001b[1;32m~\\anaconda3\\lib\\site-packages\\pandas\\_libs\\lib.pyx:2924\u001b[0m, in \u001b[0;36mpandas._libs.lib.map_infer\u001b[1;34m()\u001b[0m\n",
      "Cell \u001b[1;32mIn[21], line 10\u001b[0m, in \u001b[0;36mget_word_freq\u001b[1;34m(c)\u001b[0m\n\u001b[0;32m      8\u001b[0m \u001b[38;5;28;01mdef\u001b[39;00m \u001b[38;5;21mget_word_freq\u001b[39m(c):\n\u001b[0;32m      9\u001b[0m     \u001b[38;5;66;03m#take set because we only want to count a word once per comment\u001b[39;00m\n\u001b[1;32m---> 10\u001b[0m     tokens \u001b[38;5;241m=\u001b[39m \u001b[38;5;28mset\u001b[39m(\u001b[43mword_tokenize\u001b[49m(c))\n\u001b[0;32m     11\u001b[0m     \u001b[38;5;28;01mfor\u001b[39;00m token \u001b[38;5;129;01min\u001b[39;00m tokens:\n\u001b[0;32m     12\u001b[0m         \u001b[38;5;66;03m#disregard if it is punctuation or stop word\u001b[39;00m\n\u001b[0;32m     13\u001b[0m         \u001b[38;5;28;01mif\u001b[39;00m (\u001b[38;5;129;01mnot\u001b[39;00m token\u001b[38;5;241m.\u001b[39misalpha()) \u001b[38;5;129;01mor\u001b[39;00m (token \u001b[38;5;129;01min\u001b[39;00m stop_words):\n",
      "\u001b[1;31mNameError\u001b[0m: name 'word_tokenize' is not defined"
     ]
    }
   ],
   "source": [
    "# import nltk\n",
    "# from nltk.tokenize import word_tokenize\n",
    "# from nltk.corpus import stopwords\n",
    "# nltk.download('punkt')\n",
    "# nltk.download('stopwords')\n",
    "stop_words = set(stopwords.words('english'))\n",
    "word_freq = {}\n",
    "def get_word_freq(c):\n",
    "    #take set because we only want to count a word once per comment\n",
    "    tokens = set(word_tokenize(c))\n",
    "    for token in tokens:\n",
    "        #disregard if it is punctuation or stop word\n",
    "        if (not token.isalpha()) or (token in stop_words):\n",
    "            continue\n",
    "        if token not in word_freq:\n",
    "            word_freq[token] = 1\n",
    "        else:\n",
    "            word_freq[token] += 1\n",
    "    return None\n",
    "data['message'].map(get_word_freq)\n",
    "potential_attributes = pd.Series(word_freq)\n",
    "potential_attributes = potential_attributes.sort_values(ascending=False)\n",
    "\n",
    "potential_attributes[:50]\n"
   ]
  },
  {
   "cell_type": "code",
   "execution_count": null,
   "metadata": {},
   "outputs": [],
   "source": [
    "top_5_attributes = [\"performance\", \"engine\", \"price\", \"luxury\", \"handling\"]\n",
    "\n",
    "def get_brand_attr_lift(brand, attribute):\n",
    "    freq_brand = top_10_brands[brand]\n",
    "    freq_attribute = freq_df[attribute]\n",
    "    freq_both = 0\n",
    "    for comment in list(data['message'].values):\n",
    "        if brand in comment and attribute in comment:\n",
    "            freq_both += 1\n",
    "  #calculate lift\n",
    "    return (len(data)*freq_both)/(freq_brand * freq_attribute)\n",
    "\n",
    "brand_attr_lifts = pd.DataFrame(data = 0, index = top_10_brands[:5].index, columns=top_5_attributes)\n",
    "brand_attr_lifts.head()\n",
    "for brand in top_10_brands[:5].index:\n",
    "    for attr in top5_attr:\n",
    "        brand_attr_lifts.loc[brand, attr] = get_brand_attr_lift(brand, attr)\n",
    "brand_attr_lifts\n"
   ]
  }
 ],
 "metadata": {
  "colab": {
   "collapsed_sections": [
    "8O0quwYsu5bb",
    "PkJ-MyJlvZ1A",
    "zdZOYm41v5cD",
    "EktxV8rWwDbI"
   ],
   "provenance": []
  },
  "kernelspec": {
   "display_name": "Python 3 (ipykernel)",
   "language": "python",
   "name": "python3"
  },
  "language_info": {
   "codemirror_mode": {
    "name": "ipython",
    "version": 3
   },
   "file_extension": ".py",
   "mimetype": "text/x-python",
   "name": "python",
   "nbconvert_exporter": "python",
   "pygments_lexer": "ipython3",
   "version": "3.10.9"
  }
 },
 "nbformat": 4,
 "nbformat_minor": 1
}
