{
 "cells": [
  {
   "cell_type": "markdown",
   "metadata": {
    "id": "t3hONip3ufvB"
   },
   "source": [
    "# Assignment 1\n",
    "### Team Members: Alex Kim, Bolun Zhang, Chu Nie, Davis Gill"
   ]
  },
  {
   "cell_type": "markdown",
   "metadata": {
    "id": "8O0quwYsu5bb"
   },
   "source": [
    "### Scraper Script\n"
   ]
  },
  {
   "cell_type": "code",
   "execution_count": 1,
   "metadata": {
    "id": "DZG_2nHVuiZ4"
   },
   "outputs": [],
   "source": [
    "import pandas as pd\n",
    "import numpy as np\n",
    "import requests\n",
    "from bs4 import BeautifulSoup\n",
    "from time import sleep\n",
    "from random import randint"
   ]
  },
  {
   "cell_type": "code",
   "execution_count": 2,
   "metadata": {
    "colab": {
     "base_uri": "https://localhost:8080/",
     "height": 1000
    },
    "id": "aIkefXk0wqPi",
    "outputId": "ea22f108-bc54-4a1a-9a48-6c914bc63c7f"
   },
   "outputs": [
    {
     "name": "stdout",
     "output_type": "stream",
     "text": [
      "1\n",
      "2\n",
      "3\n",
      "4\n",
      "5\n",
      "6\n",
      "7\n",
      "8\n",
      "9\n",
      "10\n",
      "11\n",
      "12\n",
      "13\n",
      "14\n",
      "15\n",
      "16\n",
      "17\n",
      "18\n",
      "19\n",
      "20\n",
      "21\n",
      "22\n",
      "23\n",
      "24\n",
      "25\n",
      "26\n",
      "27\n",
      "28\n",
      "29\n",
      "30\n",
      "31\n",
      "32\n",
      "33\n",
      "34\n",
      "35\n",
      "36\n",
      "37\n",
      "38\n",
      "39\n",
      "40\n",
      "41\n",
      "42\n",
      "43\n",
      "44\n",
      "45\n",
      "46\n",
      "47\n",
      "48\n",
      "49\n",
      "50\n",
      "51\n",
      "52\n",
      "53\n",
      "54\n",
      "55\n",
      "56\n",
      "57\n",
      "58\n",
      "59\n",
      "60\n",
      "61\n",
      "62\n",
      "63\n",
      "64\n",
      "65\n",
      "66\n",
      "67\n",
      "68\n",
      "69\n",
      "70\n",
      "71\n",
      "72\n",
      "73\n",
      "74\n",
      "75\n",
      "76\n",
      "77\n",
      "78\n",
      "79\n",
      "80\n",
      "81\n",
      "82\n",
      "83\n",
      "84\n",
      "85\n",
      "86\n",
      "87\n",
      "88\n",
      "89\n",
      "90\n",
      "91\n",
      "92\n",
      "93\n",
      "94\n",
      "95\n",
      "96\n",
      "97\n",
      "98\n",
      "99\n",
      "100\n",
      "101\n",
      "102\n",
      "103\n",
      "104\n",
      "105\n",
      "106\n",
      "107\n",
      "108\n",
      "109\n"
     ]
    },
    {
     "data": {
      "text/html": [
       "<div>\n",
       "<style scoped>\n",
       "    .dataframe tbody tr th:only-of-type {\n",
       "        vertical-align: middle;\n",
       "    }\n",
       "\n",
       "    .dataframe tbody tr th {\n",
       "        vertical-align: top;\n",
       "    }\n",
       "\n",
       "    .dataframe thead th {\n",
       "        text-align: right;\n",
       "    }\n",
       "</style>\n",
       "<table border=\"1\" class=\"dataframe\">\n",
       "  <thead>\n",
       "    <tr style=\"text-align: right;\">\n",
       "      <th></th>\n",
       "      <th>date</th>\n",
       "      <th>dateTime</th>\n",
       "      <th>message</th>\n",
       "    </tr>\n",
       "  </thead>\n",
       "  <tbody>\n",
       "    <tr>\n",
       "      <th>0</th>\n",
       "      <td>March 24, 2002 10:54PM</td>\n",
       "      <td>2002-03-25T05:54:02+00:00</td>\n",
       "      <td>\\nI personally think that with a few tweaks th...</td>\n",
       "    </tr>\n",
       "    <tr>\n",
       "      <th>1</th>\n",
       "      <td>March 25, 2002 12:06AM</td>\n",
       "      <td>2002-03-25T07:06:29+00:00</td>\n",
       "      <td>\\nI am debating a new purchase and these two a...</td>\n",
       "    </tr>\n",
       "    <tr>\n",
       "      <th>2</th>\n",
       "      <td>March 25, 2002 10:02AM</td>\n",
       "      <td>2002-03-25T17:02:27+00:00</td>\n",
       "      <td>\\nGreat handling, RWD, excellent engine and th...</td>\n",
       "    </tr>\n",
       "    <tr>\n",
       "      <th>3</th>\n",
       "      <td>March 25, 2002 4:04PM</td>\n",
       "      <td>2002-03-25T23:04:37+00:00</td>\n",
       "      <td>\\nAnd no manual tranny. That may not matter to...</td>\n",
       "    </tr>\n",
       "    <tr>\n",
       "      <th>4</th>\n",
       "      <td>March 25, 2002 5:44PM</td>\n",
       "      <td>2002-03-26T00:44:13+00:00</td>\n",
       "      <td>\\nOne beauty of BMW 3 Series is that there are...</td>\n",
       "    </tr>\n",
       "    <tr>\n",
       "      <th>...</th>\n",
       "      <td>...</td>\n",
       "      <td>...</td>\n",
       "      <td>...</td>\n",
       "    </tr>\n",
       "    <tr>\n",
       "      <th>5426</th>\n",
       "      <td>August 1, 2006 6:35AM</td>\n",
       "      <td>2006-08-01T13:35:58+00:00</td>\n",
       "      <td>\\nwill of course vary greatly depending on whe...</td>\n",
       "    </tr>\n",
       "    <tr>\n",
       "      <th>5427</th>\n",
       "      <td>August 1, 2006 7:53AM</td>\n",
       "      <td>2006-08-01T14:53:55+00:00</td>\n",
       "      <td>\\nYes. in 2003 I bought my 330i ZHP off a lot....</td>\n",
       "    </tr>\n",
       "    <tr>\n",
       "      <th>5428</th>\n",
       "      <td>August 1, 2006 9:13AM</td>\n",
       "      <td>2006-08-01T16:13:23+00:00</td>\n",
       "      <td>\\nNo, I bought my ZHP off the lot in 2003 - I ...</td>\n",
       "    </tr>\n",
       "    <tr>\n",
       "      <th>5429</th>\n",
       "      <td>August 1, 2006 2:41PM</td>\n",
       "      <td>2006-08-01T21:41:31+00:00</td>\n",
       "      <td>\\nNo, I bought my ZHP off the lot in 2003 - I ...</td>\n",
       "    </tr>\n",
       "    <tr>\n",
       "      <th>5430</th>\n",
       "      <td>August 1, 2006 3:49PM</td>\n",
       "      <td>2006-08-01T22:49:04+00:00</td>\n",
       "      <td>\\nYou got a great deal and the best that ED wo...</td>\n",
       "    </tr>\n",
       "  </tbody>\n",
       "</table>\n",
       "<p>5431 rows × 3 columns</p>\n",
       "</div>"
      ],
      "text/plain": [
       "                        date                   dateTime  \\\n",
       "0     March 24, 2002 10:54PM  2002-03-25T05:54:02+00:00   \n",
       "1     March 25, 2002 12:06AM  2002-03-25T07:06:29+00:00   \n",
       "2     March 25, 2002 10:02AM  2002-03-25T17:02:27+00:00   \n",
       "3      March 25, 2002 4:04PM  2002-03-25T23:04:37+00:00   \n",
       "4      March 25, 2002 5:44PM  2002-03-26T00:44:13+00:00   \n",
       "...                      ...                        ...   \n",
       "5426   August 1, 2006 6:35AM  2006-08-01T13:35:58+00:00   \n",
       "5427   August 1, 2006 7:53AM  2006-08-01T14:53:55+00:00   \n",
       "5428   August 1, 2006 9:13AM  2006-08-01T16:13:23+00:00   \n",
       "5429   August 1, 2006 2:41PM  2006-08-01T21:41:31+00:00   \n",
       "5430   August 1, 2006 3:49PM  2006-08-01T22:49:04+00:00   \n",
       "\n",
       "                                                message  \n",
       "0     \\nI personally think that with a few tweaks th...  \n",
       "1     \\nI am debating a new purchase and these two a...  \n",
       "2     \\nGreat handling, RWD, excellent engine and th...  \n",
       "3     \\nAnd no manual tranny. That may not matter to...  \n",
       "4     \\nOne beauty of BMW 3 Series is that there are...  \n",
       "...                                                 ...  \n",
       "5426  \\nwill of course vary greatly depending on whe...  \n",
       "5427  \\nYes. in 2003 I bought my 330i ZHP off a lot....  \n",
       "5428  \\nNo, I bought my ZHP off the lot in 2003 - I ...  \n",
       "5429  \\nNo, I bought my ZHP off the lot in 2003 - I ...  \n",
       "5430  \\nYou got a great deal and the best that ED wo...  \n",
       "\n",
       "[5431 rows x 3 columns]"
      ]
     },
     "execution_count": 2,
     "metadata": {},
     "output_type": "execute_result"
    }
   ],
   "source": [
    "headers = {'Accept-Languages':\"en-US,en;q=0.5\"}\n",
    "date = []\n",
    "dateTime = []\n",
    "message = []\n",
    "old_pages = np.arange(1,110,1)\n",
    "for page in old_pages:\n",
    "\n",
    "    print(page)\n",
    "\n",
    "    page = requests.get('https://forums.edmunds.com/discussion/2864/general/x/entry-level-luxury-performance-sedans/p'+str(page))\n",
    "    soup = BeautifulSoup(page.text,'html.parser')\n",
    "\n",
    "    comment_data = soup.findAll('div',attrs = {'class':'Comment'})\n",
    "\n",
    "    sleep(randint(2,8))\n",
    "\n",
    "    for c in comment_data:\n",
    "\n",
    "        # Date and DateTime\n",
    "        d = c.time.attrs['title'] # date\n",
    "        dt = c.time.attrs['datetime'] # dateTime\n",
    "        date.append(d)\n",
    "        dateTime.append(dt)\n",
    "\n",
    "        # Comment Body Paragraph\n",
    "        comment = c.find('div', class_ = 'Message userContent').text\n",
    "        message.append(comment)\n",
    "\n",
    "\n",
    "old_luxury_sedan_comments = pd.DataFrame({'date':date, 'dateTime':dateTime, 'message': message})\n",
    "old_luxury_sedan_comments = old_luxury_sedan_comments.drop_duplicates(['message'])\n",
    "old_luxury_sedan_comments.reset_index(drop = True)"
   ]
  },
  {
   "cell_type": "code",
   "execution_count": 3,
   "metadata": {
    "id": "z3yrn56NvdsV"
   },
   "outputs": [],
   "source": [
    "old_luxury_sedan_comments.to_csv('old_luxury_sedan_comments.csv')"
   ]
  },
  {
   "cell_type": "markdown",
   "metadata": {
    "id": "PkJ-MyJlvZ1A"
   },
   "source": [
    "### Task A"
   ]
  },
  {
   "cell_type": "code",
   "execution_count": 4,
   "metadata": {
    "id": "rqtEUwJbvYVu"
   },
   "outputs": [],
   "source": [
    "import pandas as pd\n",
    "import numpy as np\n",
    "import nltk\n",
    "import re\n",
    "import matplotlib.pyplot as plt\n",
    "from nltk.tokenize import TreebankWordTokenizer"
   ]
  },
  {
   "cell_type": "code",
   "execution_count": 5,
   "metadata": {
    "id": "WLjW86hpvYci"
   },
   "outputs": [],
   "source": [
    "data = pd.read_csv('old_luxury_sedan_comments.csv')\n",
    "\n",
    "tokenizer = TreebankWordTokenizer()\n",
    "word_book = set()\n",
    "words = []\n",
    "\n",
    "for i in range(len(data)):\n",
    "\n",
    "    m = data['message'][i]\n",
    "    tokens = tokenizer.tokenize(m)\n",
    "    for t in tokens:\n",
    "        word_book.add(t.lower())\n",
    "        words.append(t.lower())\n",
    "\n",
    "\n",
    "counts = [(w, words.count(w)) for w in word_book]\n",
    "\n",
    "def takeSecond(elem):\n",
    "    return elem[1]\n",
    "\n",
    "counts.sort(key = takeSecond,reverse = True)\n",
    "\n",
    "w, c = zip(*counts)\n",
    "\n",
    "top_100_words = w[0:100]\n",
    "top_100_words_freq = c[0:100]\n",
    "\n",
    "rank = np.arange(1,101)\n",
    "\n",
    "# Theoretical Zipf's Law\n",
    "constant = 1*c[0] # constant = rank * frequency\n",
    "zipf_pred = constant / rank"
   ]
  },
  {
   "cell_type": "code",
   "execution_count": 6,
   "metadata": {
    "colab": {
     "base_uri": "https://localhost:8080/",
     "height": 641
    },
    "id": "ZLDh54lyvYfW",
    "outputId": "67483954-5523-4fd6-e8bd-9cb0e46a00bc"
   },
   "outputs": [
    {
     "data": {
      "image/png": "[encoded data removed]",
      "text/plain": [
       "<Figure size 1000x700 with 1 Axes>"
      ]
     },
     "metadata": {},
     "output_type": "display_data"
    }
   ],
   "source": [
    "# Plot\n",
    "plt.figure(figsize = (10,7))\n",
    "plt.plot(rank,zipf_pred, marker = '.',label = \"Zipf's Law Theoretical Prediction\")\n",
    "plt.plot(rank,top_100_words_freq, marker = '.',label = \"Reality\")\n",
    "plt.xlabel('rank')\n",
    "plt.ylabel('frequency')\n",
    "plt.title(\"Most Common 100 Words in Reality vs. in Zipf's Law Theoretical Prediction\")\n",
    "plt.legend()\n",
    "\n",
    "plt.savefig('mostCommon100Words.svg',format = 'svg')"
   ]
  },
  {
   "cell_type": "code",
   "execution_count": 7,
   "metadata": {
    "colab": {
     "base_uri": "https://localhost:8080/",
     "height": 646
    },
    "id": "82inQh0pvYig",
    "outputId": "c3b0b7be-f0cd-4273-88de-3efa816bd1f0"
   },
   "outputs": [
    {
     "data": {
      "image/png": "[encoded data removed]",
      "text/plain": [
       "<Figure size 1000x700 with 1 Axes>"
      ]
     },
     "metadata": {},
     "output_type": "display_data"
    }
   ],
   "source": [
    "# Plot Log\n",
    "plt.figure(figsize = (10,7))\n",
    "plt.plot(rank,zipf_pred, marker = '.',label = \"Zipf's Law Theoretical Prediction\")\n",
    "plt.plot(rank,top_100_words_freq, marker = '.',label = \"Reality\")\n",
    "plt.xscale('log')\n",
    "plt.yscale('log')\n",
    "plt.xlabel('rank')\n",
    "plt.ylabel('frequency')\n",
    "plt.title(\"Most Common 100 Words in Reality vs. in Zipf's Law Theoretical Prediction (log)\")\n",
    "plt.legend()\n",
    "\n",
    "plt.savefig('mostCommon100Words_log.svg',format = 'svg')"
   ]
  },
  {
   "cell_type": "code",
   "execution_count": null,
   "metadata": {
    "id": "eoUPKoSlvYmM"
   },
   "outputs": [],
   "source": []
  },
  {
   "cell_type": "markdown",
   "metadata": {
    "id": "zdZOYm41v5cD"
   },
   "source": [
    "### TaskB"
   ]
  },
  {
   "cell_type": "code",
   "execution_count": 8,
   "metadata": {
    "id": "PoXNZMZxv6D8"
   },
   "outputs": [],
   "source": [
    "import pandas as pd\n",
    "import numpy as np\n",
    "import nltk\n",
    "import re\n",
    "from nltk.corpus import stopwords\n",
    "from nltk.tokenize import TreebankWordTokenizer"
   ]
  },
  {
   "cell_type": "code",
   "execution_count": 9,
   "metadata": {
    "id": "ubP_8-bZwCGe"
   },
   "outputs": [],
   "source": [
    "data = pd.read_csv('old_luxury_sedan_comments.csv')\n",
    "car_info = pd.read_csv('car_models_and_brands.csv')"
   ]
  },
  {
   "cell_type": "code",
   "execution_count": 82,
   "metadata": {},
   "outputs": [
    {
     "data": {
      "text/html": [
       "<div>\n",
       "<style scoped>\n",
       "    .dataframe tbody tr th:only-of-type {\n",
       "        vertical-align: middle;\n",
       "    }\n",
       "\n",
       "    .dataframe tbody tr th {\n",
       "        vertical-align: top;\n",
       "    }\n",
       "\n",
       "    .dataframe thead th {\n",
       "        text-align: right;\n",
       "    }\n",
       "</style>\n",
       "<table border=\"1\" class=\"dataframe\">\n",
       "  <thead>\n",
       "    <tr style=\"text-align: right;\">\n",
       "      <th></th>\n",
       "      <th>Brand</th>\n",
       "      <th>Model</th>\n",
       "    </tr>\n",
       "  </thead>\n",
       "  <tbody>\n",
       "    <tr>\n",
       "      <th>0</th>\n",
       "      <td>acura</td>\n",
       "      <td>integra</td>\n",
       "    </tr>\n",
       "    <tr>\n",
       "      <th>1</th>\n",
       "      <td>acura</td>\n",
       "      <td>legend</td>\n",
       "    </tr>\n",
       "    <tr>\n",
       "      <th>2</th>\n",
       "      <td>acura</td>\n",
       "      <td>vigor</td>\n",
       "    </tr>\n",
       "    <tr>\n",
       "      <th>3</th>\n",
       "      <td>acura</td>\n",
       "      <td>rlx</td>\n",
       "    </tr>\n",
       "    <tr>\n",
       "      <th>4</th>\n",
       "      <td>acura</td>\n",
       "      <td>ilx</td>\n",
       "    </tr>\n",
       "    <tr>\n",
       "      <th>5</th>\n",
       "      <td>acura</td>\n",
       "      <td>mdx</td>\n",
       "    </tr>\n",
       "    <tr>\n",
       "      <th>6</th>\n",
       "      <td>acura</td>\n",
       "      <td>rdx</td>\n",
       "    </tr>\n",
       "    <tr>\n",
       "      <th>7</th>\n",
       "      <td>acura</td>\n",
       "      <td>tsx</td>\n",
       "    </tr>\n",
       "    <tr>\n",
       "      <th>8</th>\n",
       "      <td>acura</td>\n",
       "      <td>rsx</td>\n",
       "    </tr>\n",
       "    <tr>\n",
       "      <th>9</th>\n",
       "      <td>audi</td>\n",
       "      <td>quattro</td>\n",
       "    </tr>\n",
       "    <tr>\n",
       "      <th>10</th>\n",
       "      <td>audi</td>\n",
       "      <td>a4</td>\n",
       "    </tr>\n",
       "    <tr>\n",
       "      <th>11</th>\n",
       "      <td>audi</td>\n",
       "      <td>a6</td>\n",
       "    </tr>\n",
       "    <tr>\n",
       "      <th>12</th>\n",
       "      <td>audi</td>\n",
       "      <td>a5</td>\n",
       "    </tr>\n",
       "    <tr>\n",
       "      <th>13</th>\n",
       "      <td>audi</td>\n",
       "      <td>a7</td>\n",
       "    </tr>\n",
       "    <tr>\n",
       "      <th>14</th>\n",
       "      <td>audi</td>\n",
       "      <td>q3</td>\n",
       "    </tr>\n",
       "    <tr>\n",
       "      <th>15</th>\n",
       "      <td>audi</td>\n",
       "      <td>q5</td>\n",
       "    </tr>\n",
       "    <tr>\n",
       "      <th>16</th>\n",
       "      <td>audi</td>\n",
       "      <td>q7</td>\n",
       "    </tr>\n",
       "    <tr>\n",
       "      <th>17</th>\n",
       "      <td>audi</td>\n",
       "      <td>a8</td>\n",
       "    </tr>\n",
       "    <tr>\n",
       "      <th>18</th>\n",
       "      <td>audi</td>\n",
       "      <td>a3</td>\n",
       "    </tr>\n",
       "    <tr>\n",
       "      <th>19</th>\n",
       "      <td>bmw</td>\n",
       "      <td>3-series</td>\n",
       "    </tr>\n",
       "    <tr>\n",
       "      <th>20</th>\n",
       "      <td>bmw</td>\n",
       "      <td>5-series</td>\n",
       "    </tr>\n",
       "    <tr>\n",
       "      <th>21</th>\n",
       "      <td>bmw</td>\n",
       "      <td>6-series</td>\n",
       "    </tr>\n",
       "    <tr>\n",
       "      <th>22</th>\n",
       "      <td>bmw</td>\n",
       "      <td>4-series</td>\n",
       "    </tr>\n",
       "    <tr>\n",
       "      <th>23</th>\n",
       "      <td>bmw</td>\n",
       "      <td>xdrive</td>\n",
       "    </tr>\n",
       "    <tr>\n",
       "      <th>24</th>\n",
       "      <td>bmw</td>\n",
       "      <td>alpina</td>\n",
       "    </tr>\n",
       "    <tr>\n",
       "      <th>25</th>\n",
       "      <td>bmw</td>\n",
       "      <td>330ci</td>\n",
       "    </tr>\n",
       "    <tr>\n",
       "      <th>26</th>\n",
       "      <td>bmw</td>\n",
       "      <td>328i</td>\n",
       "    </tr>\n",
       "    <tr>\n",
       "      <th>27</th>\n",
       "      <td>bmw</td>\n",
       "      <td>330c</td>\n",
       "    </tr>\n",
       "    <tr>\n",
       "      <th>28</th>\n",
       "      <td>bmw</td>\n",
       "      <td>335i</td>\n",
       "    </tr>\n",
       "    <tr>\n",
       "      <th>29</th>\n",
       "      <td>bmw</td>\n",
       "      <td>335d</td>\n",
       "    </tr>\n",
       "    <tr>\n",
       "      <th>30</th>\n",
       "      <td>bmw</td>\n",
       "      <td>528i</td>\n",
       "    </tr>\n",
       "    <tr>\n",
       "      <th>31</th>\n",
       "      <td>bmw</td>\n",
       "      <td>535i</td>\n",
       "    </tr>\n",
       "    <tr>\n",
       "      <th>32</th>\n",
       "      <td>bmw</td>\n",
       "      <td>128i</td>\n",
       "    </tr>\n",
       "    <tr>\n",
       "      <th>33</th>\n",
       "      <td>bmw</td>\n",
       "      <td>640i</td>\n",
       "    </tr>\n",
       "    <tr>\n",
       "      <th>34</th>\n",
       "      <td>bmw</td>\n",
       "      <td>3er</td>\n",
       "    </tr>\n",
       "    <tr>\n",
       "      <th>35</th>\n",
       "      <td>bmw</td>\n",
       "      <td>5er</td>\n",
       "    </tr>\n",
       "    <tr>\n",
       "      <th>36</th>\n",
       "      <td>bmw</td>\n",
       "      <td>m5</td>\n",
       "    </tr>\n",
       "    <tr>\n",
       "      <th>37</th>\n",
       "      <td>bmw</td>\n",
       "      <td>m3</td>\n",
       "    </tr>\n",
       "    <tr>\n",
       "      <th>38</th>\n",
       "      <td>bmw</td>\n",
       "      <td>m6</td>\n",
       "    </tr>\n",
       "    <tr>\n",
       "      <th>39</th>\n",
       "      <td>bmw</td>\n",
       "      <td>bmws</td>\n",
       "    </tr>\n",
       "    <tr>\n",
       "      <th>40</th>\n",
       "      <td>bmw</td>\n",
       "      <td>bmwesque</td>\n",
       "    </tr>\n",
       "    <tr>\n",
       "      <th>41</th>\n",
       "      <td>buick</td>\n",
       "      <td>park avenue</td>\n",
       "    </tr>\n",
       "    <tr>\n",
       "      <th>42</th>\n",
       "      <td>buick</td>\n",
       "      <td>la crosse</td>\n",
       "    </tr>\n",
       "    <tr>\n",
       "      <th>43</th>\n",
       "      <td>buick</td>\n",
       "      <td>lacrosse</td>\n",
       "    </tr>\n",
       "    <tr>\n",
       "      <th>44</th>\n",
       "      <td>buick</td>\n",
       "      <td>century</td>\n",
       "    </tr>\n",
       "    <tr>\n",
       "      <th>45</th>\n",
       "      <td>buick</td>\n",
       "      <td>enclave</td>\n",
       "    </tr>\n",
       "    <tr>\n",
       "      <th>46</th>\n",
       "      <td>buick</td>\n",
       "      <td>encore</td>\n",
       "    </tr>\n",
       "    <tr>\n",
       "      <th>47</th>\n",
       "      <td>buick</td>\n",
       "      <td>regal</td>\n",
       "    </tr>\n",
       "    <tr>\n",
       "      <th>48</th>\n",
       "      <td>buick</td>\n",
       "      <td>buicks</td>\n",
       "    </tr>\n",
       "    <tr>\n",
       "      <th>49</th>\n",
       "      <td>cadillac</td>\n",
       "      <td>escalade</td>\n",
       "    </tr>\n",
       "  </tbody>\n",
       "</table>\n",
       "</div>"
      ],
      "text/plain": [
       "       Brand        Model\n",
       "0      acura      integra\n",
       "1      acura       legend\n",
       "2      acura        vigor\n",
       "3      acura          rlx\n",
       "4      acura          ilx\n",
       "5      acura          mdx\n",
       "6      acura          rdx\n",
       "7      acura          tsx\n",
       "8      acura          rsx\n",
       "9       audi      quattro\n",
       "10      audi           a4\n",
       "11      audi           a6\n",
       "12      audi           a5\n",
       "13      audi           a7\n",
       "14      audi           q3\n",
       "15      audi           q5\n",
       "16      audi           q7\n",
       "17      audi           a8\n",
       "18      audi           a3\n",
       "19       bmw     3-series\n",
       "20       bmw     5-series\n",
       "21       bmw     6-series\n",
       "22       bmw     4-series\n",
       "23       bmw       xdrive\n",
       "24       bmw       alpina\n",
       "25       bmw        330ci\n",
       "26       bmw         328i\n",
       "27       bmw         330c\n",
       "28       bmw         335i\n",
       "29       bmw         335d\n",
       "30       bmw         528i\n",
       "31       bmw         535i\n",
       "32       bmw         128i\n",
       "33       bmw         640i\n",
       "34       bmw          3er\n",
       "35       bmw          5er\n",
       "36       bmw           m5\n",
       "37       bmw           m3\n",
       "38       bmw           m6\n",
       "39       bmw         bmws\n",
       "40       bmw     bmwesque\n",
       "41     buick  park avenue\n",
       "42     buick    la crosse\n",
       "43     buick     lacrosse\n",
       "44     buick      century\n",
       "45     buick      enclave\n",
       "46     buick       encore\n",
       "47     buick        regal\n",
       "48     buick       buicks\n",
       "49  cadillac     escalade"
      ]
     },
     "execution_count": 82,
     "metadata": {},
     "output_type": "execute_result"
    }
   ],
   "source": [
    "car_info[:50]"
   ]
  },
  {
   "cell_type": "code",
   "execution_count": 121,
   "metadata": {
    "id": "8Tc1onuQwCLs"
   },
   "outputs": [],
   "source": [
    "tokenizer = TreebankWordTokenizer()\n",
    "words_unique = []\n",
    "modelList = car_info.drop_duplicates()['Model'].to_list()\n",
    "brandList = car_info.drop_duplicates()['Brand'].to_list()\n",
    "non_brands = ['car', 'sedan', 'seat']\n",
    "updated_brands = [x for x in brandList if x not in non_brands]\n",
    "\n",
    "\n",
    "\n",
    "for i in range(len(data)):\n",
    "\n",
    "    temp = set()\n",
    "    m = data['message'][i]\n",
    "    tokens = tokenizer.tokenize(m)\n",
    "\n",
    "    for t in tokens:\n",
    "        t = t.lower()\n",
    "        if t in modelList:\n",
    "            n = modelList.index(t)\n",
    "            t = brandList[n]\n",
    "            temp.add(t)\n",
    "        else:\n",
    "            temp.add(t)\n",
    "\n",
    "    for x in temp:\n",
    "        x = str(x)\n",
    "        words_unique.append(x)\n",
    "\n",
    "\n",
    "words_unique_english = pd.Series(words_unique).value_counts().to_frame().reset_index()\n",
    "words_unique_english.rename(columns = {'index':'word',0:'count'},inplace = True)\n",
    "words_unique_english= words_unique_english[words_unique_english['word'].apply(lambda x: x.isalpha())]\n",
    "\n",
    "stopWords = stopwords.words('english')\n",
    "df_clean = words_unique_english[words_unique_english['word'].isin(stopWords)==False] # without stopWords\n",
    "car_brand_count = df_clean[df_clean['word'].isin(updated_brands)].sort_values(['count'], ascending = False)\n"
   ]
  },
  {
   "cell_type": "code",
   "execution_count": 122,
   "metadata": {
    "id": "DPba3-zuwCOs"
   },
   "outputs": [],
   "source": [
    "car_brand_count.to_csv('car_brand_frequency.csv', index = False)"
   ]
  },
  {
   "cell_type": "code",
   "execution_count": 123,
   "metadata": {
    "id": "_FDe2Nzwv6PV"
   },
   "outputs": [
    {
     "data": {
      "text/plain": [
       "brand\n",
       "bmw           1501\n",
       "acura          565\n",
       "audi           449\n",
       "honda          416\n",
       "infiniti       402\n",
       "nissan         293\n",
       "toyota         293\n",
       "problem        255\n",
       "subaru         211\n",
       "volkswagen     174\n",
       "Name: count, dtype: int64"
      ]
     },
     "execution_count": 123,
     "metadata": {},
     "output_type": "execute_result"
    }
   ],
   "source": [
    "car_brand_count.rename(columns={'word': 'brand'}, inplace=True)\n",
    "top_10_brands = car_brand_count.set_index('brand')['count']\n",
    "\n",
    "top_10_brands.head(10)"
   ]
  },
  {
   "cell_type": "markdown",
   "metadata": {
    "id": "EktxV8rWwDbI"
   },
   "source": [
    "### Task C"
   ]
  },
  {
   "cell_type": "code",
   "execution_count": null,
   "metadata": {},
   "outputs": [],
   "source": []
  },
  {
   "cell_type": "code",
   "execution_count": 124,
   "metadata": {
    "id": "MiyOd78GwFc_"
   },
   "outputs": [],
   "source": [
    "top10_brands = ['bmw', 'acura', 'audi', 'honda', 'infiniti', 'nissan', 'toyota', 'mercedes', 'subaru', 'volkswagen']\n",
    "possible_comb = []\n",
    "from itertools import combinations\n",
    "\n",
    "def pairs(lst):\n",
    "    return list(combinations(lst, 2))\n",
    "\n",
    "possible_comb = (pairs(top10_brands))"
   ]
  },
  {
   "cell_type": "code",
   "execution_count": 125,
   "metadata": {
    "id": "J7GCduLdDuow"
   },
   "outputs": [],
   "source": [
    "tokenizer = TreebankWordTokenizer()\n",
    "all_sentence = []\n",
    "all_sentence_d = []\n",
    "\n",
    "for i in range(len(data)):\n",
    "    sentence = set()\n",
    "    sentence_d = []\n",
    "\n",
    "    m = data['message'][i]\n",
    "    tokens = tokenizer.tokenize(m)\n",
    "    for t in tokens:\n",
    "        sentence.add(t.lower())\n",
    "        sentence_d.append(t.lower())\n",
    "\n",
    "    all_sentence.append(sentence)\n",
    "    all_sentence_d.append(sentence_d)\n"
   ]
  },
  {
   "cell_type": "code",
   "execution_count": 126,
   "metadata": {
    "id": "x9sYsmU_wFf1"
   },
   "outputs": [],
   "source": [
    "def index_difference(word1, word2, lst):\n",
    "    try:\n",
    "        index1 = lst.index(word1)\n",
    "        index2 = lst.index(word2)\n",
    "        return abs(index1 - index2)\n",
    "    except ValueError:\n",
    "        return None"
   ]
  },
  {
   "cell_type": "code",
   "execution_count": 127,
   "metadata": {
    "id": "3MzZJO4hwFlI"
   },
   "outputs": [],
   "source": [
    "pairs_count = {}\n",
    "\n",
    "for pairs in possible_comb:\n",
    "    pairs_count[pairs] = 0\n",
    "\n",
    "for i in range (len(all_sentence)):\n",
    "    for pairs in possible_comb:\n",
    "        brand1 = pairs[0]\n",
    "        brand2 = pairs[1]\n",
    "        if brand1 in all_sentence[i] and brand2 in all_sentence[i] and index_difference(brand1, brand2, all_sentence_d[i])<=7:\n",
    "            pairs_count[pairs] += 1"
   ]
  },
  {
   "cell_type": "code",
   "execution_count": 128,
   "metadata": {
    "colab": {
     "base_uri": "https://localhost:8080/"
    },
    "id": "iK2kyaNOwFn7",
    "outputId": "3246353e-a219-4fe1-80ca-42141cf0590b"
   },
   "outputs": [
    {
     "data": {
      "text/plain": [
       "{('bmw', 'acura'): 0.2241396591063185,\n",
       " ('bmw', 'audi'): 0.4432160296995767,\n",
       " ('bmw', 'honda'): 0.026093181468764413,\n",
       " ('bmw', 'infiniti'): 0.4140291215474924,\n",
       " ('bmw', 'nissan'): 0.04939596582937882,\n",
       " ('bmw', 'toyota'): 0.06174495728672353,\n",
       " ('bmw', 'mercedes'): 0.7486043786900687,\n",
       " ('bmw', 'subaru'): 0.06859250231283409,\n",
       " ('bmw', 'volkswagen'): 0.04158913214944826,\n",
       " ('acura', 'audi'): 0.3211265940043755,\n",
       " ('acura', 'honda'): 0.18485364193328796,\n",
       " ('acura', 'infiniti'): 1.3868621494298419,\n",
       " ('acura', 'nissan'): 0.1640339484732248,\n",
       " ('acura', 'toyota'): 0.09842036908393488,\n",
       " ('acura', 'mercedes'): 0.24859627708269758,\n",
       " ('acura', 'subaru'): 0.13666904332508492,\n",
       " ('acura', 'volkswagen'): 0.0,\n",
       " ('audi', 'honda'): 0.05815273256810005,\n",
       " ('audi', 'infiniti'): 0.6017795211027269,\n",
       " ('audi', 'nissan'): 0.0,\n",
       " ('audi', 'toyota'): 0.0,\n",
       " ('audi', 'mercedes'): 1.2512863835342907,\n",
       " ('audi', 'subaru'): 0.28662958232618035,\n",
       " ('audi', 'volkswagen'): 0.13903182039269898,\n",
       " ('honda', 'infiniti'): 0.06495168388825105,\n",
       " ('honda', 'nissan'): 0.8911459700708847,\n",
       " ('honda', 'toyota'): 1.5149481491205041,\n",
       " ('honda', 'mercedes'): 0.0,\n",
       " ('honda', 'subaru'): 0.18562021509296392,\n",
       " ('honda', 'volkswagen'): 0.0750303934571176,\n",
       " ('infiniti', 'nissan'): 0.23054522608799008,\n",
       " ('infiniti', 'toyota'): 0.04610904521759802,\n",
       " ('infiniti', 'mercedes'): 0.5823254417567336,\n",
       " ('infiniti', 'subaru'): 0.32014100115536065,\n",
       " ('infiniti', 'volkswagen'): 0.0,\n",
       " ('nissan', 'toyota'): 1.1387203112441613,\n",
       " ('nissan', 'mercedes'): 0.0,\n",
       " ('nissan', 'subaru'): 0.17569512964430714,\n",
       " ('nissan', 'volkswagen'): 0.1065277941234161,\n",
       " ('toyota', 'mercedes'): 0.15979169118512415,\n",
       " ('toyota', 'subaru'): 0.0,\n",
       " ('toyota', 'volkswagen'): 0.1065277941234161,\n",
       " ('mercedes', 'subaru'): 0.0,\n",
       " ('mercedes', 'volkswagen'): 0.0,\n",
       " ('subaru', 'volkswagen'): 0.0}"
      ]
     },
     "execution_count": 128,
     "metadata": {},
     "output_type": "execute_result"
    }
   ],
   "source": [
    "single_mention = pd.read_csv('car_brand_frequency.csv')\n",
    "pairs_lift = {}\n",
    "N = len(data)\n",
    "\n",
    "for key, value in pairs_count.items():\n",
    "    commen_mention = value\n",
    "    single_value1 = single_mention[single_mention['word'] == key[0]]['count'].tolist()[0]\n",
    "    single_value2 = single_mention[single_mention['word'] == key[1]]['count'].tolist()[0]\n",
    "    pairs_lift[key] = N*value/(single_value1*single_value2)\n",
    "\n",
    "    #print(key,value)\n",
    "    #print(key[0], single_value1)\n",
    "    #print(key[1], single_value2)\n",
    "\n",
    "pairs_lift"
   ]
  },
  {
   "cell_type": "markdown",
   "metadata": {
    "id": "Mzww9NBZEETM"
   },
   "source": [
    "### Task D"
   ]
  },
  {
   "cell_type": "code",
   "execution_count": null,
   "metadata": {
    "id": "Z2LuSBAoEJC_"
   },
   "outputs": [],
   "source": []
  },
  {
   "cell_type": "code",
   "execution_count": null,
   "metadata": {
    "id": "AjPux_JKEI9P"
   },
   "outputs": [],
   "source": []
  },
  {
   "cell_type": "code",
   "execution_count": null,
   "metadata": {
    "id": "6y0xm8HkEI0B"
   },
   "outputs": [],
   "source": []
  },
  {
   "cell_type": "code",
   "execution_count": null,
   "metadata": {
    "id": "SW4LrNIGEInX"
   },
   "outputs": [],
   "source": []
  },
  {
   "cell_type": "markdown",
   "metadata": {
    "id": "MJlzQEKx6xyB"
   },
   "source": [
    "## Task E"
   ]
  },
  {
   "cell_type": "markdown",
   "metadata": {
    "id": "91IYPezt61f9"
   },
   "source": [
    "## Task F"
   ]
  },
  {
   "cell_type": "code",
   "execution_count": 21,
   "metadata": {},
   "outputs": [
    {
     "data": {
      "text/html": [
       "<div>\n",
       "<style scoped>\n",
       "    .dataframe tbody tr th:only-of-type {\n",
       "        vertical-align: middle;\n",
       "    }\n",
       "\n",
       "    .dataframe tbody tr th {\n",
       "        vertical-align: top;\n",
       "    }\n",
       "\n",
       "    .dataframe thead th {\n",
       "        text-align: right;\n",
       "    }\n",
       "</style>\n",
       "<table border=\"1\" class=\"dataframe\">\n",
       "  <thead>\n",
       "    <tr style=\"text-align: right;\">\n",
       "      <th></th>\n",
       "      <th>Unnamed: 0</th>\n",
       "      <th>date</th>\n",
       "      <th>dateTime</th>\n",
       "      <th>message</th>\n",
       "    </tr>\n",
       "  </thead>\n",
       "  <tbody>\n",
       "    <tr>\n",
       "      <th>0</th>\n",
       "      <td>0</td>\n",
       "      <td>March 24, 2002 10:54PM</td>\n",
       "      <td>2002-03-25T05:54:02+00:00</td>\n",
       "      <td>\\nI personally think that with a few tweaks th...</td>\n",
       "    </tr>\n",
       "    <tr>\n",
       "      <th>1</th>\n",
       "      <td>1</td>\n",
       "      <td>March 25, 2002 12:06AM</td>\n",
       "      <td>2002-03-25T07:06:29+00:00</td>\n",
       "      <td>\\nI am debating a new purchase and these two a...</td>\n",
       "    </tr>\n",
       "    <tr>\n",
       "      <th>2</th>\n",
       "      <td>2</td>\n",
       "      <td>March 25, 2002 10:02AM</td>\n",
       "      <td>2002-03-25T17:02:27+00:00</td>\n",
       "      <td>\\nGreat handling, RWD, excellent engine and th...</td>\n",
       "    </tr>\n",
       "    <tr>\n",
       "      <th>3</th>\n",
       "      <td>3</td>\n",
       "      <td>March 25, 2002 4:04PM</td>\n",
       "      <td>2002-03-25T23:04:37+00:00</td>\n",
       "      <td>\\nAnd no manual tranny. That may not matter to...</td>\n",
       "    </tr>\n",
       "    <tr>\n",
       "      <th>4</th>\n",
       "      <td>4</td>\n",
       "      <td>March 25, 2002 5:44PM</td>\n",
       "      <td>2002-03-26T00:44:13+00:00</td>\n",
       "      <td>\\nOne beauty of BMW 3 Series is that there are...</td>\n",
       "    </tr>\n",
       "  </tbody>\n",
       "</table>\n",
       "</div>"
      ],
      "text/plain": [
       "   Unnamed: 0                    date                   dateTime  \\\n",
       "0           0  March 24, 2002 10:54PM  2002-03-25T05:54:02+00:00   \n",
       "1           1  March 25, 2002 12:06AM  2002-03-25T07:06:29+00:00   \n",
       "2           2  March 25, 2002 10:02AM  2002-03-25T17:02:27+00:00   \n",
       "3           3   March 25, 2002 4:04PM  2002-03-25T23:04:37+00:00   \n",
       "4           4   March 25, 2002 5:44PM  2002-03-26T00:44:13+00:00   \n",
       "\n",
       "                                             message  \n",
       "0  \\nI personally think that with a few tweaks th...  \n",
       "1  \\nI am debating a new purchase and these two a...  \n",
       "2  \\nGreat handling, RWD, excellent engine and th...  \n",
       "3  \\nAnd no manual tranny. That may not matter to...  \n",
       "4  \\nOne beauty of BMW 3 Series is that there are...  "
      ]
     },
     "execution_count": 21,
     "metadata": {},
     "output_type": "execute_result"
    }
   ],
   "source": [
    "data.head()"
   ]
  },
  {
   "cell_type": "code",
   "execution_count": 129,
   "metadata": {},
   "outputs": [
    {
     "data": {
      "text/plain": [
       "I              3681\n",
       "car            2144\n",
       "The            1525\n",
       "like           1319\n",
       "cars           1301\n",
       "BMW            1237\n",
       "would          1189\n",
       "one            1144\n",
       "get            1054\n",
       "TL             1020\n",
       "think          1005\n",
       "It              873\n",
       "much            793\n",
       "better          768\n",
       "drive           764\n",
       "know            689\n",
       "new             681\n",
       "If              665\n",
       "even            661\n",
       "really          648\n",
       "people          645\n",
       "performance     630\n",
       "good            613\n",
       "driving         605\n",
       "want            601\n",
       "still           561\n",
       "say             551\n",
       "way             543\n",
       "time            532\n",
       "But             531\n",
       "sedan           527\n",
       "also            522\n",
       "see             521\n",
       "well            515\n",
       "could           514\n",
       "make            510\n",
       "That            503\n",
       "You             502\n",
       "go              479\n",
       "best            461\n",
       "And             456\n",
       "buy             456\n",
       "engine          446\n",
       "going           441\n",
       "price           437\n",
       "luxury          428\n",
       "great           417\n",
       "years           414\n",
       "many            412\n",
       "right           409\n",
       "dtype: int64"
      ]
     },
     "execution_count": 129,
     "metadata": {},
     "output_type": "execute_result"
    }
   ],
   "source": [
    "# import nltk\n",
    "# from nltk.tokenize import word_tokenize\n",
    "# from nltk.corpus import stopwords\n",
    "# nltk.download('punkt')\n",
    "# nltk.download('stopwords')\n",
    "stop_words = set(stopwords.words('english'))\n",
    "word_freq = {}\n",
    "def get_word_freq(c):\n",
    "    #take set because we only want to count a word once per comment\n",
    "    tokens = set(word_tokenize(c))\n",
    "    for token in tokens:\n",
    "        #disregard if it is punctuation or stop word\n",
    "        if (not token.isalpha()) or (token in stop_words):\n",
    "            continue\n",
    "        if token not in word_freq:\n",
    "            word_freq[token] = 1\n",
    "        else:\n",
    "            word_freq[token] += 1\n",
    "    return None\n",
    "data['message'].map(get_word_freq)\n",
    "potential_attributes = pd.Series(word_freq)\n",
    "potential_attributes = potential_attributes.sort_values(ascending=False)\n",
    "\n",
    "potential_attributes[:50]\n"
   ]
  },
  {
   "cell_type": "markdown",
   "metadata": {},
   "source": [
    "Some of these words are not truly attributes. The top five words that we would consider as attributes are **performance**, **engine**, **price**, **luxury**, and **handling**."
   ]
  },
  {
   "cell_type": "code",
   "execution_count": 131,
   "metadata": {
    "scrolled": true
   },
   "outputs": [
    {
     "data": {
      "text/html": [
       "<div>\n",
       "<style scoped>\n",
       "    .dataframe tbody tr th:only-of-type {\n",
       "        vertical-align: middle;\n",
       "    }\n",
       "\n",
       "    .dataframe tbody tr th {\n",
       "        vertical-align: top;\n",
       "    }\n",
       "\n",
       "    .dataframe thead th {\n",
       "        text-align: right;\n",
       "    }\n",
       "</style>\n",
       "<table border=\"1\" class=\"dataframe\">\n",
       "  <thead>\n",
       "    <tr style=\"text-align: right;\">\n",
       "      <th></th>\n",
       "      <th>performance</th>\n",
       "      <th>engine</th>\n",
       "      <th>price</th>\n",
       "      <th>luxury</th>\n",
       "      <th>handling</th>\n",
       "    </tr>\n",
       "    <tr>\n",
       "      <th>brand</th>\n",
       "      <th></th>\n",
       "      <th></th>\n",
       "      <th></th>\n",
       "      <th></th>\n",
       "      <th></th>\n",
       "    </tr>\n",
       "  </thead>\n",
       "  <tbody>\n",
       "    <tr>\n",
       "      <th>bmw</th>\n",
       "      <td>0.086149</td>\n",
       "      <td>0.121690</td>\n",
       "      <td>0.215274</td>\n",
       "      <td>0.076085</td>\n",
       "      <td>0.099007</td>\n",
       "    </tr>\n",
       "    <tr>\n",
       "      <th>acura</th>\n",
       "      <td>0.106804</td>\n",
       "      <td>0.237077</td>\n",
       "      <td>0.175971</td>\n",
       "      <td>0.067377</td>\n",
       "      <td>0.167380</td>\n",
       "    </tr>\n",
       "    <tr>\n",
       "      <th>audi</th>\n",
       "      <td>0.307194</td>\n",
       "      <td>0.488170</td>\n",
       "      <td>0.387507</td>\n",
       "      <td>0.197828</td>\n",
       "      <td>0.240712</td>\n",
       "    </tr>\n",
       "    <tr>\n",
       "      <th>honda</th>\n",
       "      <td>0.165781</td>\n",
       "      <td>0.058544</td>\n",
       "      <td>0.238998</td>\n",
       "      <td>0.213521</td>\n",
       "      <td>0.064952</td>\n",
       "    </tr>\n",
       "    <tr>\n",
       "      <th>infiniti</th>\n",
       "      <td>0.150111</td>\n",
       "      <td>0.121165</td>\n",
       "      <td>0.216407</td>\n",
       "      <td>0.126261</td>\n",
       "      <td>0.134427</td>\n",
       "    </tr>\n",
       "  </tbody>\n",
       "</table>\n",
       "</div>"
      ],
      "text/plain": [
       "          performance    engine     price    luxury  handling\n",
       "brand                                                        \n",
       "bmw          0.086149  0.121690  0.215274  0.076085  0.099007\n",
       "acura        0.106804  0.237077  0.175971  0.067377  0.167380\n",
       "audi         0.307194  0.488170  0.387507  0.197828  0.240712\n",
       "honda        0.165781  0.058544  0.238998  0.213521  0.064952\n",
       "infiniti     0.150111  0.121165  0.216407  0.126261  0.134427"
      ]
     },
     "execution_count": 131,
     "metadata": {},
     "output_type": "execute_result"
    }
   ],
   "source": [
    "top_5_attributes = [\"performance\", \"engine\", \"price\", \"luxury\", \"handling\"]\n",
    "\n",
    "def get_brand_attr_lift(brand, attribute):\n",
    "    freq_brand = top_10_brands[brand]\n",
    "    freq_attribute = freq_df[attribute]\n",
    "    freq_both = 0\n",
    "    for comment in list(data['message'].values):\n",
    "        if brand in comment and attribute in comment:\n",
    "            freq_both += 1\n",
    "  #calculate lift\n",
    "    return (len(data)*freq_both)/(freq_brand * freq_attribute)\n",
    "\n",
    "brand_attr_lifts = pd.DataFrame(data = 0, index = top_10_brands[:5].index, columns=top_5_attributes)\n",
    "brand_attr_lifts.head()\n",
    "for brand in top_10_brands[:5].index:\n",
    "    for attr in top5_attr:\n",
    "        brand_attr_lifts.loc[brand, attr] = get_brand_attr_lift(brand, attr)\n",
    "brand_attr_lifts\n"
   ]
  },
  {
   "cell_type": "markdown",
   "metadata": {},
   "source": []
  },
  {
   "cell_type": "markdown",
   "metadata": {
    "id": "ppWVUBdg63xP"
   },
   "source": [
    "## Task G"
   ]
  },
  {
   "cell_type": "code",
   "execution_count": 11,
   "metadata": {
    "colab": {
     "base_uri": "https://localhost:8080/"
    },
    "id": "xYQ9Ub5z-rl7",
    "outputId": "0a34d22b-1f4a-4ef8-cd5d-39c601298fca"
   },
   "outputs": [
    {
     "name": "stdout",
     "output_type": "stream",
     "text": [
      "Requirement already satisfied: nltk in /Users/alexkim/anaconda3/lib/python3.10/site-packages (3.7)\n",
      "Requirement already satisfied: regex>=2021.8.3 in /Users/alexkim/anaconda3/lib/python3.10/site-packages (from nltk) (2022.7.9)\n",
      "Requirement already satisfied: tqdm in /Users/alexkim/anaconda3/lib/python3.10/site-packages (from nltk) (4.64.1)\n",
      "Requirement already satisfied: joblib in /Users/alexkim/anaconda3/lib/python3.10/site-packages (from nltk) (1.1.1)\n",
      "Requirement already satisfied: click in /Users/alexkim/anaconda3/lib/python3.10/site-packages (from nltk) (8.0.4)\n",
      "Note: you may need to restart the kernel to use updated packages.\n"
     ]
    }
   ],
   "source": [
    "pip install nltk\n"
   ]
  },
  {
   "cell_type": "code",
   "execution_count": 12,
   "metadata": {
    "colab": {
     "base_uri": "https://localhost:8080/"
    },
    "id": "HZMF6HI1-tv2",
    "outputId": "5bdf547f-6126-4d35-b89f-81cc3895b00d"
   },
   "outputs": [
    {
     "name": "stderr",
     "output_type": "stream",
     "text": [
      "[nltk_data] Downloading package stopwords to\n",
      "[nltk_data]     /Users/alexkim/nltk_data...\n",
      "[nltk_data]   Unzipping corpora/stopwords.zip.\n"
     ]
    },
    {
     "data": {
      "text/plain": [
       "True"
      ]
     },
     "execution_count": 12,
     "metadata": {},
     "output_type": "execute_result"
    }
   ],
   "source": [
    "import nltk\n",
    "nltk.download('stopwords')"
   ]
  },
  {
   "cell_type": "code",
   "execution_count": null,
   "metadata": {
    "id": "Bmx7v6VI-t0f"
   },
   "outputs": [],
   "source": []
  },
  {
   "cell_type": "code",
   "execution_count": null,
   "metadata": {
    "id": "FQxtEcz_-t22"
   },
   "outputs": [],
   "source": []
  }
 ],
 "metadata": {
  "colab": {
   "collapsed_sections": [
    "8O0quwYsu5bb",
    "PkJ-MyJlvZ1A",
    "zdZOYm41v5cD",
    "EktxV8rWwDbI"
   ],
   "provenance": []
  },
  "kernelspec": {
   "display_name": "Python 3 (ipykernel)",
   "language": "python",
   "name": "python3"
  },
  "language_info": {
   "codemirror_mode": {
    "name": "ipython",
    "version": 3
   },
   "file_extension": ".py",
   "mimetype": "text/x-python",
   "name": "python",
   "nbconvert_exporter": "python",
   "pygments_lexer": "ipython3",
   "version": "3.10.9"
  }
 },
 "nbformat": 4,
 "nbformat_minor": 1
}
